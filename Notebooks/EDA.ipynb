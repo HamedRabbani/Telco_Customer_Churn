{
 "cells": [
  {
   "cell_type": "markdown",
   "id": "3e53847c-e4f1-424e-b2fd-8fdf1b134fb2",
   "metadata": {},
   "source": [
    "- **customerID** – Unique identifier for each customer, typically used for tracking and identification.  \n",
    "- **OnlineBackup** – Indicates whether the customer has online backup service (Yes, No, No internet service).  \n",
    "- **DeviceProtection** – Indicates whether the customer has device protection service (Yes, No, No internet service).  \n",
    "- **TechSupport** – Indicates whether the customer has access to technical support (Yes, No, No internet service).  \n",
    "- **StreamingTV** – Indicates whether the customer has TV streaming service (Yes, No, No internet service).  \n",
    "- **StreamingMovies** – Indicates whether the customer has movie streaming service (Yes, No, No internet service).  \n",
    "- **Contract** – Type of customer contract (Month-to-month, One year, Two year); this feature is important for customer loyalty.  \n",
    "- **PaperlessBilling** – Indicates whether the customer receives paperless billing (Yes, No).  \n",
    "- **PaymentMethod** – Customer’s payment method (Credit card, Bank transfer, Electronic check, Mailed check).  \n",
    "- **MonthlyCharges** – Monthly amount paid by the customer.  \n",
    "- **TotalCharges** – Total amount paid by the customer to date.  \n",
    "- **Churn** – Indicates whether the customer has left the company (Yes = churned, No = still active).  \n",
    "- **gender** – Customer’s gender (Male or Female).  \n",
    "- **SeniorCitizen** – Indicates whether the customer is a senior citizen (1 = Yes, 0 = No).  \n",
    "- **Partner** – Indicates whether the customer has a partner (Yes, No).  \n",
    "- **Dependents** – Indicates whether the customer has dependents (Yes, No).  \n",
    "- **tenure** – Number of months the customer has been with the company.  \n",
    "- **PhoneService** – Indicates whether the customer has phone service (Yes, No).  \n",
    "- **MultipleLines** – Indicates whether the customer has multiple phone lines (Yes, No, No phone service).  \n",
    "- **InternetService** – Type of internet service the customer has (DSL, Fiber optic, No internet).  \n",
    "- **OnlineSecurity** – Indicates whether the customer has internet security service (Yes, No, No internet service)."
   ]
  },
  {
   "cell_type": "code",
   "execution_count": 1,
   "id": "62be0e83-c456-420d-97fe-b8a9496766ce",
   "metadata": {},
   "outputs": [],
   "source": [
    "import pandas  as pd\n",
    "import numpy as np\n",
    "import matplotlib.pylab as plt\n",
    "import seaborn as sns\n",
    "import scipy.stats as personr"
   ]
  },
  {
   "cell_type": "markdown",
   "id": "7d917c20-4ee7-4817-8b0e-4709facbaef4",
   "metadata": {},
   "source": [
    "#### Display a list of installed ODBC drivers for connecting to databases"
   ]
  },
  {
   "cell_type": "code",
   "execution_count": 2,
   "id": "ab795142-0150-4b23-9702-c73c43664fde",
   "metadata": {},
   "outputs": [
    {
     "name": "stdout",
     "output_type": "stream",
     "text": [
      "['SQL Server', 'ODBC Driver 18 for SQL Server', 'Microsoft Access Driver (*.mdb, *.accdb)', 'Microsoft Excel Driver (*.xls, *.xlsx, *.xlsm, *.xlsb)', 'Microsoft Access Text Driver (*.txt, *.csv)', 'Microsoft Access dBASE Driver (*.dbf, *.ndx, *.mdx)']\n"
     ]
    }
   ],
   "source": [
    "import pyodbc\n",
    "print(pyodbc.drivers())"
   ]
  },
  {
   "cell_type": "markdown",
   "id": "a96bafab-84a3-4d58-a53f-cda9076c51b5",
   "metadata": {},
   "source": [
    "### This code checks whether a connection to SQL Server can be established on the specified IP and port 1433.\n"
   ]
  },
  {
   "cell_type": "code",
   "execution_count": 3,
   "id": "cb80615a-beaf-4610-a3a5-dfcafd08a4e5",
   "metadata": {},
   "outputs": [
    {
     "name": "stdout",
     "output_type": "stream",
     "text": [
      "✅ SQL Server is reachable!\n"
     ]
    }
   ],
   "source": [
    "import socket\n",
    "try:\n",
    "    s = socket.create_connection((\"192.168.174.5\", 1433), timeout=3)\n",
    "    print(\"✅ SQL Server is reachable!\")\n",
    "except Exception as e:\n",
    "    print(\"❌ Connection failed:\", e)"
   ]
  },
  {
   "cell_type": "markdown",
   "id": "94fce301-e162-4567-86ff-7c4c3837e022",
   "metadata": {},
   "source": [
    "### This code connects to a SQL Server database using SQLAlchemy and pyodbc and inserts the data from the desired table into a Pandas dataframe."
   ]
  },
  {
   "cell_type": "code",
   "execution_count": 4,
   "id": "a3bfa0ae-a4b0-443a-bbcd-03ea800d2884",
   "metadata": {
    "scrolled": true
   },
   "outputs": [
    {
     "data": {
      "text/html": [
       "<div>\n",
       "<style scoped>\n",
       "    .dataframe tbody tr th:only-of-type {\n",
       "        vertical-align: middle;\n",
       "    }\n",
       "\n",
       "    .dataframe tbody tr th {\n",
       "        vertical-align: top;\n",
       "    }\n",
       "\n",
       "    .dataframe thead th {\n",
       "        text-align: right;\n",
       "    }\n",
       "</style>\n",
       "<table border=\"1\" class=\"dataframe\">\n",
       "  <thead>\n",
       "    <tr style=\"text-align: right;\">\n",
       "      <th></th>\n",
       "      <th>customerID</th>\n",
       "      <th>gender</th>\n",
       "      <th>SeniorCitizen</th>\n",
       "      <th>Partner</th>\n",
       "      <th>Dependents</th>\n",
       "      <th>tenure</th>\n",
       "      <th>PhoneService</th>\n",
       "      <th>MultipleLines</th>\n",
       "      <th>InternetService</th>\n",
       "      <th>OnlineSecurity</th>\n",
       "      <th>...</th>\n",
       "      <th>DeviceProtection</th>\n",
       "      <th>TechSupport</th>\n",
       "      <th>StreamingTV</th>\n",
       "      <th>StreamingMovies</th>\n",
       "      <th>Contract</th>\n",
       "      <th>PaperlessBilling</th>\n",
       "      <th>PaymentMethod</th>\n",
       "      <th>MonthlyCharges</th>\n",
       "      <th>TotalCharges</th>\n",
       "      <th>Churn</th>\n",
       "    </tr>\n",
       "  </thead>\n",
       "  <tbody>\n",
       "    <tr>\n",
       "      <th>0</th>\n",
       "      <td>7590-VHVEG</td>\n",
       "      <td>Female</td>\n",
       "      <td>0</td>\n",
       "      <td>Yes</td>\n",
       "      <td>No</td>\n",
       "      <td>1</td>\n",
       "      <td>No</td>\n",
       "      <td>No phone service</td>\n",
       "      <td>DSL</td>\n",
       "      <td>No</td>\n",
       "      <td>...</td>\n",
       "      <td>No</td>\n",
       "      <td>No</td>\n",
       "      <td>No</td>\n",
       "      <td>No</td>\n",
       "      <td>Month-to-month</td>\n",
       "      <td>Yes</td>\n",
       "      <td>Electronic check</td>\n",
       "      <td>29.85</td>\n",
       "      <td>29.85</td>\n",
       "      <td>No</td>\n",
       "    </tr>\n",
       "    <tr>\n",
       "      <th>1</th>\n",
       "      <td>5575-GNVDE</td>\n",
       "      <td>Male</td>\n",
       "      <td>0</td>\n",
       "      <td>No</td>\n",
       "      <td>No</td>\n",
       "      <td>34</td>\n",
       "      <td>Yes</td>\n",
       "      <td>No</td>\n",
       "      <td>DSL</td>\n",
       "      <td>Yes</td>\n",
       "      <td>...</td>\n",
       "      <td>Yes</td>\n",
       "      <td>No</td>\n",
       "      <td>No</td>\n",
       "      <td>No</td>\n",
       "      <td>One year</td>\n",
       "      <td>No</td>\n",
       "      <td>Mailed check</td>\n",
       "      <td>56.95</td>\n",
       "      <td>1889.5</td>\n",
       "      <td>No</td>\n",
       "    </tr>\n",
       "    <tr>\n",
       "      <th>2</th>\n",
       "      <td>3668-QPYBK</td>\n",
       "      <td>Male</td>\n",
       "      <td>0</td>\n",
       "      <td>No</td>\n",
       "      <td>No</td>\n",
       "      <td>2</td>\n",
       "      <td>Yes</td>\n",
       "      <td>No</td>\n",
       "      <td>DSL</td>\n",
       "      <td>Yes</td>\n",
       "      <td>...</td>\n",
       "      <td>No</td>\n",
       "      <td>No</td>\n",
       "      <td>No</td>\n",
       "      <td>No</td>\n",
       "      <td>Month-to-month</td>\n",
       "      <td>Yes</td>\n",
       "      <td>Mailed check</td>\n",
       "      <td>53.85</td>\n",
       "      <td>108.15</td>\n",
       "      <td>Yes</td>\n",
       "    </tr>\n",
       "    <tr>\n",
       "      <th>3</th>\n",
       "      <td>7795-CFOCW</td>\n",
       "      <td>Male</td>\n",
       "      <td>0</td>\n",
       "      <td>No</td>\n",
       "      <td>No</td>\n",
       "      <td>45</td>\n",
       "      <td>No</td>\n",
       "      <td>No phone service</td>\n",
       "      <td>DSL</td>\n",
       "      <td>Yes</td>\n",
       "      <td>...</td>\n",
       "      <td>Yes</td>\n",
       "      <td>Yes</td>\n",
       "      <td>No</td>\n",
       "      <td>No</td>\n",
       "      <td>One year</td>\n",
       "      <td>No</td>\n",
       "      <td>Bank transfer (automatic)</td>\n",
       "      <td>42.3</td>\n",
       "      <td>1840.75</td>\n",
       "      <td>No</td>\n",
       "    </tr>\n",
       "    <tr>\n",
       "      <th>4</th>\n",
       "      <td>9237-HQITU</td>\n",
       "      <td>Female</td>\n",
       "      <td>0</td>\n",
       "      <td>No</td>\n",
       "      <td>No</td>\n",
       "      <td>2</td>\n",
       "      <td>Yes</td>\n",
       "      <td>No</td>\n",
       "      <td>Fiber optic</td>\n",
       "      <td>No</td>\n",
       "      <td>...</td>\n",
       "      <td>No</td>\n",
       "      <td>No</td>\n",
       "      <td>No</td>\n",
       "      <td>No</td>\n",
       "      <td>Month-to-month</td>\n",
       "      <td>Yes</td>\n",
       "      <td>Electronic check</td>\n",
       "      <td>70.7</td>\n",
       "      <td>151.65</td>\n",
       "      <td>Yes</td>\n",
       "    </tr>\n",
       "    <tr>\n",
       "      <th>...</th>\n",
       "      <td>...</td>\n",
       "      <td>...</td>\n",
       "      <td>...</td>\n",
       "      <td>...</td>\n",
       "      <td>...</td>\n",
       "      <td>...</td>\n",
       "      <td>...</td>\n",
       "      <td>...</td>\n",
       "      <td>...</td>\n",
       "      <td>...</td>\n",
       "      <td>...</td>\n",
       "      <td>...</td>\n",
       "      <td>...</td>\n",
       "      <td>...</td>\n",
       "      <td>...</td>\n",
       "      <td>...</td>\n",
       "      <td>...</td>\n",
       "      <td>...</td>\n",
       "      <td>...</td>\n",
       "      <td>...</td>\n",
       "      <td>...</td>\n",
       "    </tr>\n",
       "    <tr>\n",
       "      <th>7039</th>\n",
       "      <td>2234-XADUH</td>\n",
       "      <td>Female</td>\n",
       "      <td>0</td>\n",
       "      <td>Yes</td>\n",
       "      <td>Yes</td>\n",
       "      <td>72</td>\n",
       "      <td>Yes</td>\n",
       "      <td>Yes</td>\n",
       "      <td>Fiber optic</td>\n",
       "      <td>No</td>\n",
       "      <td>...</td>\n",
       "      <td>Yes</td>\n",
       "      <td>No</td>\n",
       "      <td>Yes</td>\n",
       "      <td>Yes</td>\n",
       "      <td>One year</td>\n",
       "      <td>Yes</td>\n",
       "      <td>Credit card (automatic)</td>\n",
       "      <td>103.2</td>\n",
       "      <td>7362.9</td>\n",
       "      <td>No</td>\n",
       "    </tr>\n",
       "    <tr>\n",
       "      <th>7040</th>\n",
       "      <td>4801-JZAZL</td>\n",
       "      <td>Female</td>\n",
       "      <td>0</td>\n",
       "      <td>Yes</td>\n",
       "      <td>Yes</td>\n",
       "      <td>11</td>\n",
       "      <td>No</td>\n",
       "      <td>No phone service</td>\n",
       "      <td>DSL</td>\n",
       "      <td>Yes</td>\n",
       "      <td>...</td>\n",
       "      <td>No</td>\n",
       "      <td>No</td>\n",
       "      <td>No</td>\n",
       "      <td>No</td>\n",
       "      <td>Month-to-month</td>\n",
       "      <td>Yes</td>\n",
       "      <td>Electronic check</td>\n",
       "      <td>29.6</td>\n",
       "      <td>346.45</td>\n",
       "      <td>No</td>\n",
       "    </tr>\n",
       "    <tr>\n",
       "      <th>7041</th>\n",
       "      <td>8361-LTMKD</td>\n",
       "      <td>Male</td>\n",
       "      <td>1</td>\n",
       "      <td>Yes</td>\n",
       "      <td>No</td>\n",
       "      <td>4</td>\n",
       "      <td>Yes</td>\n",
       "      <td>Yes</td>\n",
       "      <td>Fiber optic</td>\n",
       "      <td>No</td>\n",
       "      <td>...</td>\n",
       "      <td>No</td>\n",
       "      <td>No</td>\n",
       "      <td>No</td>\n",
       "      <td>No</td>\n",
       "      <td>Month-to-month</td>\n",
       "      <td>Yes</td>\n",
       "      <td>Mailed check</td>\n",
       "      <td>74.4</td>\n",
       "      <td>306.6</td>\n",
       "      <td>Yes</td>\n",
       "    </tr>\n",
       "    <tr>\n",
       "      <th>7042</th>\n",
       "      <td>3186-AJIEK</td>\n",
       "      <td>Male</td>\n",
       "      <td>0</td>\n",
       "      <td>No</td>\n",
       "      <td>No</td>\n",
       "      <td>66</td>\n",
       "      <td>Yes</td>\n",
       "      <td>No</td>\n",
       "      <td>Fiber optic</td>\n",
       "      <td>Yes</td>\n",
       "      <td>...</td>\n",
       "      <td>Yes</td>\n",
       "      <td>Yes</td>\n",
       "      <td>Yes</td>\n",
       "      <td>Yes</td>\n",
       "      <td>Two year</td>\n",
       "      <td>Yes</td>\n",
       "      <td>Bank transfer (automatic)</td>\n",
       "      <td>105.65</td>\n",
       "      <td>6844.5</td>\n",
       "      <td>No</td>\n",
       "    </tr>\n",
       "    <tr>\n",
       "      <th>7043</th>\n",
       "      <td>customerID</td>\n",
       "      <td>gender</td>\n",
       "      <td>SeniorCitizen</td>\n",
       "      <td>Partner</td>\n",
       "      <td>Dependents</td>\n",
       "      <td>tenure</td>\n",
       "      <td>PhoneService</td>\n",
       "      <td>MultipleLines</td>\n",
       "      <td>InternetService</td>\n",
       "      <td>OnlineSecurity</td>\n",
       "      <td>...</td>\n",
       "      <td>DeviceProtection</td>\n",
       "      <td>TechSupport</td>\n",
       "      <td>StreamingTV</td>\n",
       "      <td>StreamingMovies</td>\n",
       "      <td>Contract</td>\n",
       "      <td>PaperlessBilling</td>\n",
       "      <td>PaymentMethod</td>\n",
       "      <td>MonthlyCharges</td>\n",
       "      <td>TotalCharges</td>\n",
       "      <td>Churn</td>\n",
       "    </tr>\n",
       "  </tbody>\n",
       "</table>\n",
       "<p>7044 rows × 21 columns</p>\n",
       "</div>"
      ],
      "text/plain": [
       "      customerID  gender  SeniorCitizen  Partner  Dependents  tenure  \\\n",
       "0     7590-VHVEG  Female              0      Yes          No       1   \n",
       "1     5575-GNVDE    Male              0       No          No      34   \n",
       "2     3668-QPYBK    Male              0       No          No       2   \n",
       "3     7795-CFOCW    Male              0       No          No      45   \n",
       "4     9237-HQITU  Female              0       No          No       2   \n",
       "...          ...     ...            ...      ...         ...     ...   \n",
       "7039  2234-XADUH  Female              0      Yes         Yes      72   \n",
       "7040  4801-JZAZL  Female              0      Yes         Yes      11   \n",
       "7041  8361-LTMKD    Male              1      Yes          No       4   \n",
       "7042  3186-AJIEK    Male              0       No          No      66   \n",
       "7043  customerID  gender  SeniorCitizen  Partner  Dependents  tenure   \n",
       "\n",
       "      PhoneService     MultipleLines  InternetService  OnlineSecurity  ...  \\\n",
       "0               No  No phone service              DSL              No  ...   \n",
       "1              Yes                No              DSL             Yes  ...   \n",
       "2              Yes                No              DSL             Yes  ...   \n",
       "3               No  No phone service              DSL             Yes  ...   \n",
       "4              Yes                No      Fiber optic              No  ...   \n",
       "...            ...               ...              ...             ...  ...   \n",
       "7039           Yes               Yes      Fiber optic              No  ...   \n",
       "7040            No  No phone service              DSL             Yes  ...   \n",
       "7041           Yes               Yes      Fiber optic              No  ...   \n",
       "7042           Yes                No      Fiber optic             Yes  ...   \n",
       "7043  PhoneService     MultipleLines  InternetService  OnlineSecurity  ...   \n",
       "\n",
       "      DeviceProtection  TechSupport  StreamingTV  StreamingMovies  \\\n",
       "0                   No           No           No               No   \n",
       "1                  Yes           No           No               No   \n",
       "2                   No           No           No               No   \n",
       "3                  Yes          Yes           No               No   \n",
       "4                   No           No           No               No   \n",
       "...                ...          ...          ...              ...   \n",
       "7039               Yes           No          Yes              Yes   \n",
       "7040                No           No           No               No   \n",
       "7041                No           No           No               No   \n",
       "7042               Yes          Yes          Yes              Yes   \n",
       "7043  DeviceProtection  TechSupport  StreamingTV  StreamingMovies   \n",
       "\n",
       "            Contract  PaperlessBilling              PaymentMethod  \\\n",
       "0     Month-to-month               Yes           Electronic check   \n",
       "1           One year                No               Mailed check   \n",
       "2     Month-to-month               Yes               Mailed check   \n",
       "3           One year                No  Bank transfer (automatic)   \n",
       "4     Month-to-month               Yes           Electronic check   \n",
       "...              ...               ...                        ...   \n",
       "7039        One year               Yes    Credit card (automatic)   \n",
       "7040  Month-to-month               Yes           Electronic check   \n",
       "7041  Month-to-month               Yes               Mailed check   \n",
       "7042        Two year               Yes  Bank transfer (automatic)   \n",
       "7043        Contract  PaperlessBilling              PaymentMethod   \n",
       "\n",
       "      MonthlyCharges  TotalCharges  Churn  \n",
       "0              29.85         29.85     No  \n",
       "1              56.95        1889.5     No  \n",
       "2              53.85        108.15    Yes  \n",
       "3               42.3       1840.75     No  \n",
       "4               70.7        151.65    Yes  \n",
       "...              ...           ...    ...  \n",
       "7039           103.2        7362.9     No  \n",
       "7040            29.6        346.45     No  \n",
       "7041            74.4         306.6    Yes  \n",
       "7042          105.65        6844.5     No  \n",
       "7043  MonthlyCharges  TotalCharges  Churn  \n",
       "\n",
       "[7044 rows x 21 columns]"
      ]
     },
     "execution_count": 4,
     "metadata": {},
     "output_type": "execute_result"
    }
   ],
   "source": [
    "from sqlalchemy import create_engine\n",
    "\n",
    "username = 'ccna'\n",
    "password = 'Hamed/.1234sql'\n",
    "server_ip = '192.168.174.5'\n",
    "database = 'TelcoData'\n",
    "\n",
    "conn_str = (\n",
    "    f\"mssql+pyodbc://{username}:{password}\"\n",
    "    f\"@{server_ip}/{database}?driver=ODBC+Driver+18+for+SQL+Server&Encrypt=no\"\n",
    ")\n",
    "\n",
    "engine = create_engine(conn_str)\n",
    "# df = pd.read_sql(\"SELECT TOP 100 * FROM [WA_Fn-UseC_-Telco-Customer-Churn]\", engine,)\n",
    "df = pd.read_sql(\"SELECT * FROM [WA_Fn-UseC_-Telco-Customer-Churn]\", engine,)\n",
    "df"
   ]
  },
  {
   "cell_type": "markdown",
   "id": "b9538eec-c53a-4d96-9e18-7af37fa01561",
   "metadata": {},
   "source": [
    "## Part One (Data Analysis,Analytical Tasks)"
   ]
  },
  {
   "cell_type": "code",
   "execution_count": 5,
   "id": "9204741e-82f1-49e7-81ac-4dccbc7ecbe3",
   "metadata": {},
   "outputs": [
    {
     "data": {
      "text/html": [
       "<div>\n",
       "<style scoped>\n",
       "    .dataframe tbody tr th:only-of-type {\n",
       "        vertical-align: middle;\n",
       "    }\n",
       "\n",
       "    .dataframe tbody tr th {\n",
       "        vertical-align: top;\n",
       "    }\n",
       "\n",
       "    .dataframe thead th {\n",
       "        text-align: right;\n",
       "    }\n",
       "</style>\n",
       "<table border=\"1\" class=\"dataframe\">\n",
       "  <thead>\n",
       "    <tr style=\"text-align: right;\">\n",
       "      <th></th>\n",
       "      <th>customerID</th>\n",
       "      <th>gender</th>\n",
       "      <th>SeniorCitizen</th>\n",
       "      <th>Partner</th>\n",
       "      <th>Dependents</th>\n",
       "      <th>tenure</th>\n",
       "      <th>PhoneService</th>\n",
       "      <th>MultipleLines</th>\n",
       "      <th>InternetService</th>\n",
       "      <th>OnlineSecurity</th>\n",
       "      <th>...</th>\n",
       "      <th>DeviceProtection</th>\n",
       "      <th>TechSupport</th>\n",
       "      <th>StreamingTV</th>\n",
       "      <th>StreamingMovies</th>\n",
       "      <th>Contract</th>\n",
       "      <th>PaperlessBilling</th>\n",
       "      <th>PaymentMethod</th>\n",
       "      <th>MonthlyCharges</th>\n",
       "      <th>TotalCharges</th>\n",
       "      <th>Churn</th>\n",
       "    </tr>\n",
       "  </thead>\n",
       "  <tbody>\n",
       "    <tr>\n",
       "      <th>0</th>\n",
       "      <td>7590-VHVEG</td>\n",
       "      <td>Female</td>\n",
       "      <td>0</td>\n",
       "      <td>Yes</td>\n",
       "      <td>No</td>\n",
       "      <td>1</td>\n",
       "      <td>No</td>\n",
       "      <td>No phone service</td>\n",
       "      <td>DSL</td>\n",
       "      <td>No</td>\n",
       "      <td>...</td>\n",
       "      <td>No</td>\n",
       "      <td>No</td>\n",
       "      <td>No</td>\n",
       "      <td>No</td>\n",
       "      <td>Month-to-month</td>\n",
       "      <td>Yes</td>\n",
       "      <td>Electronic check</td>\n",
       "      <td>29.85</td>\n",
       "      <td>29.85</td>\n",
       "      <td>No</td>\n",
       "    </tr>\n",
       "    <tr>\n",
       "      <th>1</th>\n",
       "      <td>5575-GNVDE</td>\n",
       "      <td>Male</td>\n",
       "      <td>0</td>\n",
       "      <td>No</td>\n",
       "      <td>No</td>\n",
       "      <td>34</td>\n",
       "      <td>Yes</td>\n",
       "      <td>No</td>\n",
       "      <td>DSL</td>\n",
       "      <td>Yes</td>\n",
       "      <td>...</td>\n",
       "      <td>Yes</td>\n",
       "      <td>No</td>\n",
       "      <td>No</td>\n",
       "      <td>No</td>\n",
       "      <td>One year</td>\n",
       "      <td>No</td>\n",
       "      <td>Mailed check</td>\n",
       "      <td>56.95</td>\n",
       "      <td>1889.5</td>\n",
       "      <td>No</td>\n",
       "    </tr>\n",
       "    <tr>\n",
       "      <th>2</th>\n",
       "      <td>3668-QPYBK</td>\n",
       "      <td>Male</td>\n",
       "      <td>0</td>\n",
       "      <td>No</td>\n",
       "      <td>No</td>\n",
       "      <td>2</td>\n",
       "      <td>Yes</td>\n",
       "      <td>No</td>\n",
       "      <td>DSL</td>\n",
       "      <td>Yes</td>\n",
       "      <td>...</td>\n",
       "      <td>No</td>\n",
       "      <td>No</td>\n",
       "      <td>No</td>\n",
       "      <td>No</td>\n",
       "      <td>Month-to-month</td>\n",
       "      <td>Yes</td>\n",
       "      <td>Mailed check</td>\n",
       "      <td>53.85</td>\n",
       "      <td>108.15</td>\n",
       "      <td>Yes</td>\n",
       "    </tr>\n",
       "    <tr>\n",
       "      <th>3</th>\n",
       "      <td>7795-CFOCW</td>\n",
       "      <td>Male</td>\n",
       "      <td>0</td>\n",
       "      <td>No</td>\n",
       "      <td>No</td>\n",
       "      <td>45</td>\n",
       "      <td>No</td>\n",
       "      <td>No phone service</td>\n",
       "      <td>DSL</td>\n",
       "      <td>Yes</td>\n",
       "      <td>...</td>\n",
       "      <td>Yes</td>\n",
       "      <td>Yes</td>\n",
       "      <td>No</td>\n",
       "      <td>No</td>\n",
       "      <td>One year</td>\n",
       "      <td>No</td>\n",
       "      <td>Bank transfer (automatic)</td>\n",
       "      <td>42.3</td>\n",
       "      <td>1840.75</td>\n",
       "      <td>No</td>\n",
       "    </tr>\n",
       "    <tr>\n",
       "      <th>4</th>\n",
       "      <td>9237-HQITU</td>\n",
       "      <td>Female</td>\n",
       "      <td>0</td>\n",
       "      <td>No</td>\n",
       "      <td>No</td>\n",
       "      <td>2</td>\n",
       "      <td>Yes</td>\n",
       "      <td>No</td>\n",
       "      <td>Fiber optic</td>\n",
       "      <td>No</td>\n",
       "      <td>...</td>\n",
       "      <td>No</td>\n",
       "      <td>No</td>\n",
       "      <td>No</td>\n",
       "      <td>No</td>\n",
       "      <td>Month-to-month</td>\n",
       "      <td>Yes</td>\n",
       "      <td>Electronic check</td>\n",
       "      <td>70.7</td>\n",
       "      <td>151.65</td>\n",
       "      <td>Yes</td>\n",
       "    </tr>\n",
       "  </tbody>\n",
       "</table>\n",
       "<p>5 rows × 21 columns</p>\n",
       "</div>"
      ],
      "text/plain": [
       "   customerID  gender SeniorCitizen Partner Dependents tenure PhoneService  \\\n",
       "0  7590-VHVEG  Female             0     Yes         No      1           No   \n",
       "1  5575-GNVDE    Male             0      No         No     34          Yes   \n",
       "2  3668-QPYBK    Male             0      No         No      2          Yes   \n",
       "3  7795-CFOCW    Male             0      No         No     45           No   \n",
       "4  9237-HQITU  Female             0      No         No      2          Yes   \n",
       "\n",
       "      MultipleLines InternetService OnlineSecurity  ... DeviceProtection  \\\n",
       "0  No phone service             DSL             No  ...               No   \n",
       "1                No             DSL            Yes  ...              Yes   \n",
       "2                No             DSL            Yes  ...               No   \n",
       "3  No phone service             DSL            Yes  ...              Yes   \n",
       "4                No     Fiber optic             No  ...               No   \n",
       "\n",
       "  TechSupport StreamingTV StreamingMovies        Contract PaperlessBilling  \\\n",
       "0          No          No              No  Month-to-month              Yes   \n",
       "1          No          No              No        One year               No   \n",
       "2          No          No              No  Month-to-month              Yes   \n",
       "3         Yes          No              No        One year               No   \n",
       "4          No          No              No  Month-to-month              Yes   \n",
       "\n",
       "               PaymentMethod MonthlyCharges TotalCharges Churn  \n",
       "0           Electronic check          29.85        29.85    No  \n",
       "1               Mailed check          56.95       1889.5    No  \n",
       "2               Mailed check          53.85       108.15   Yes  \n",
       "3  Bank transfer (automatic)           42.3      1840.75    No  \n",
       "4           Electronic check           70.7       151.65   Yes  \n",
       "\n",
       "[5 rows x 21 columns]"
      ]
     },
     "execution_count": 5,
     "metadata": {},
     "output_type": "execute_result"
    }
   ],
   "source": [
    "df.head()"
   ]
  },
  {
   "cell_type": "code",
   "execution_count": 6,
   "id": "56bc4075-1dc0-4a15-a255-c283bd11bea8",
   "metadata": {},
   "outputs": [
    {
     "data": {
      "text/html": [
       "<div>\n",
       "<style scoped>\n",
       "    .dataframe tbody tr th:only-of-type {\n",
       "        vertical-align: middle;\n",
       "    }\n",
       "\n",
       "    .dataframe tbody tr th {\n",
       "        vertical-align: top;\n",
       "    }\n",
       "\n",
       "    .dataframe thead th {\n",
       "        text-align: right;\n",
       "    }\n",
       "</style>\n",
       "<table border=\"1\" class=\"dataframe\">\n",
       "  <thead>\n",
       "    <tr style=\"text-align: right;\">\n",
       "      <th></th>\n",
       "      <th>customerID</th>\n",
       "      <th>gender</th>\n",
       "      <th>SeniorCitizen</th>\n",
       "      <th>Partner</th>\n",
       "      <th>Dependents</th>\n",
       "      <th>tenure</th>\n",
       "      <th>PhoneService</th>\n",
       "      <th>MultipleLines</th>\n",
       "      <th>InternetService</th>\n",
       "      <th>OnlineSecurity</th>\n",
       "      <th>...</th>\n",
       "      <th>DeviceProtection</th>\n",
       "      <th>TechSupport</th>\n",
       "      <th>StreamingTV</th>\n",
       "      <th>StreamingMovies</th>\n",
       "      <th>Contract</th>\n",
       "      <th>PaperlessBilling</th>\n",
       "      <th>PaymentMethod</th>\n",
       "      <th>MonthlyCharges</th>\n",
       "      <th>TotalCharges</th>\n",
       "      <th>Churn</th>\n",
       "    </tr>\n",
       "  </thead>\n",
       "  <tbody>\n",
       "    <tr>\n",
       "      <th>count</th>\n",
       "      <td>7044</td>\n",
       "      <td>7044</td>\n",
       "      <td>7044</td>\n",
       "      <td>7044</td>\n",
       "      <td>7044</td>\n",
       "      <td>7044</td>\n",
       "      <td>7044</td>\n",
       "      <td>7044</td>\n",
       "      <td>7044</td>\n",
       "      <td>7044</td>\n",
       "      <td>...</td>\n",
       "      <td>7044</td>\n",
       "      <td>7044</td>\n",
       "      <td>7044</td>\n",
       "      <td>7044</td>\n",
       "      <td>7044</td>\n",
       "      <td>7044</td>\n",
       "      <td>7044</td>\n",
       "      <td>7044</td>\n",
       "      <td>7044</td>\n",
       "      <td>7044</td>\n",
       "    </tr>\n",
       "    <tr>\n",
       "      <th>unique</th>\n",
       "      <td>7044</td>\n",
       "      <td>3</td>\n",
       "      <td>3</td>\n",
       "      <td>3</td>\n",
       "      <td>3</td>\n",
       "      <td>74</td>\n",
       "      <td>3</td>\n",
       "      <td>4</td>\n",
       "      <td>4</td>\n",
       "      <td>4</td>\n",
       "      <td>...</td>\n",
       "      <td>4</td>\n",
       "      <td>4</td>\n",
       "      <td>4</td>\n",
       "      <td>4</td>\n",
       "      <td>4</td>\n",
       "      <td>3</td>\n",
       "      <td>5</td>\n",
       "      <td>1586</td>\n",
       "      <td>6532</td>\n",
       "      <td>3</td>\n",
       "    </tr>\n",
       "    <tr>\n",
       "      <th>top</th>\n",
       "      <td>customerID</td>\n",
       "      <td>Male</td>\n",
       "      <td>0</td>\n",
       "      <td>No</td>\n",
       "      <td>No</td>\n",
       "      <td>1</td>\n",
       "      <td>Yes</td>\n",
       "      <td>No</td>\n",
       "      <td>Fiber optic</td>\n",
       "      <td>No</td>\n",
       "      <td>...</td>\n",
       "      <td>No</td>\n",
       "      <td>No</td>\n",
       "      <td>No</td>\n",
       "      <td>No</td>\n",
       "      <td>Month-to-month</td>\n",
       "      <td>Yes</td>\n",
       "      <td>Electronic check</td>\n",
       "      <td>20.05</td>\n",
       "      <td>20.2</td>\n",
       "      <td>No</td>\n",
       "    </tr>\n",
       "    <tr>\n",
       "      <th>freq</th>\n",
       "      <td>1</td>\n",
       "      <td>3555</td>\n",
       "      <td>5901</td>\n",
       "      <td>3641</td>\n",
       "      <td>4933</td>\n",
       "      <td>613</td>\n",
       "      <td>6361</td>\n",
       "      <td>3390</td>\n",
       "      <td>3096</td>\n",
       "      <td>3498</td>\n",
       "      <td>...</td>\n",
       "      <td>3095</td>\n",
       "      <td>3473</td>\n",
       "      <td>2810</td>\n",
       "      <td>2785</td>\n",
       "      <td>3875</td>\n",
       "      <td>4171</td>\n",
       "      <td>2365</td>\n",
       "      <td>61</td>\n",
       "      <td>11</td>\n",
       "      <td>5174</td>\n",
       "    </tr>\n",
       "  </tbody>\n",
       "</table>\n",
       "<p>4 rows × 21 columns</p>\n",
       "</div>"
      ],
      "text/plain": [
       "        customerID gender SeniorCitizen Partner Dependents tenure  \\\n",
       "count         7044   7044          7044    7044       7044   7044   \n",
       "unique        7044      3             3       3          3     74   \n",
       "top     customerID   Male             0      No         No      1   \n",
       "freq             1   3555          5901    3641       4933    613   \n",
       "\n",
       "       PhoneService MultipleLines InternetService OnlineSecurity  ...  \\\n",
       "count          7044          7044            7044           7044  ...   \n",
       "unique            3             4               4              4  ...   \n",
       "top             Yes            No     Fiber optic             No  ...   \n",
       "freq           6361          3390            3096           3498  ...   \n",
       "\n",
       "       DeviceProtection TechSupport StreamingTV StreamingMovies  \\\n",
       "count              7044        7044        7044            7044   \n",
       "unique                4           4           4               4   \n",
       "top                  No          No          No              No   \n",
       "freq               3095        3473        2810            2785   \n",
       "\n",
       "              Contract PaperlessBilling     PaymentMethod MonthlyCharges  \\\n",
       "count             7044             7044              7044           7044   \n",
       "unique               4                3                 5           1586   \n",
       "top     Month-to-month              Yes  Electronic check          20.05   \n",
       "freq              3875             4171              2365             61   \n",
       "\n",
       "       TotalCharges Churn  \n",
       "count          7044  7044  \n",
       "unique         6532     3  \n",
       "top            20.2    No  \n",
       "freq             11  5174  \n",
       "\n",
       "[4 rows x 21 columns]"
      ]
     },
     "execution_count": 6,
     "metadata": {},
     "output_type": "execute_result"
    }
   ],
   "source": [
    "df.describe()"
   ]
  },
  {
   "cell_type": "code",
   "execution_count": 7,
   "id": "07d6603a-3c52-435b-9c61-ebe357a9f9e9",
   "metadata": {},
   "outputs": [
    {
     "data": {
      "text/plain": [
       "Index(['customerID', 'gender', 'SeniorCitizen', 'Partner', 'Dependents',\n",
       "       'tenure', 'PhoneService', 'MultipleLines', 'InternetService',\n",
       "       'OnlineSecurity', 'OnlineBackup', 'DeviceProtection', 'TechSupport',\n",
       "       'StreamingTV', 'StreamingMovies', 'Contract', 'PaperlessBilling',\n",
       "       'PaymentMethod', 'MonthlyCharges', 'TotalCharges', 'Churn'],\n",
       "      dtype='object')"
      ]
     },
     "execution_count": 7,
     "metadata": {},
     "output_type": "execute_result"
    }
   ],
   "source": [
    "df.columns"
   ]
  },
  {
   "cell_type": "code",
   "execution_count": 8,
   "id": "9ca46fee-4acd-42f2-aa67-1d7cb8808bb6",
   "metadata": {
    "scrolled": true
   },
   "outputs": [
    {
     "name": "stdout",
     "output_type": "stream",
     "text": [
      "        customerID gender SeniorCitizen Partner Dependents tenure  \\\n",
      "count         7044   7044          7044    7044       7044   7044   \n",
      "unique        7044      3             3       3          3     74   \n",
      "top     customerID   Male             0      No         No      1   \n",
      "freq             1   3555          5901    3641       4933    613   \n",
      "\n",
      "       PhoneService MultipleLines InternetService OnlineSecurity  ...  \\\n",
      "count          7044          7044            7044           7044  ...   \n",
      "unique            3             4               4              4  ...   \n",
      "top             Yes            No     Fiber optic             No  ...   \n",
      "freq           6361          3390            3096           3498  ...   \n",
      "\n",
      "       DeviceProtection TechSupport StreamingTV StreamingMovies  \\\n",
      "count              7044        7044        7044            7044   \n",
      "unique                4           4           4               4   \n",
      "top                  No          No          No              No   \n",
      "freq               3095        3473        2810            2785   \n",
      "\n",
      "              Contract PaperlessBilling     PaymentMethod MonthlyCharges  \\\n",
      "count             7044             7044              7044           7044   \n",
      "unique               4                3                 5           1586   \n",
      "top     Month-to-month              Yes  Electronic check          20.05   \n",
      "freq              3875             4171              2365             61   \n",
      "\n",
      "       TotalCharges Churn  \n",
      "count          7044  7044  \n",
      "unique         6532     3  \n",
      "top            20.2    No  \n",
      "freq             11  5174  \n",
      "\n",
      "[4 rows x 21 columns]\n"
     ]
    }
   ],
   "source": [
    "describe_all = df.describe(include='all')\n",
    "print(describe_all)"
   ]
  },
  {
   "cell_type": "markdown",
   "id": "6fb889bf-584b-47df-9417-e4969e88c96e",
   "metadata": {},
   "source": [
    "#### count = 7044\n",
    "The total number of rows that have a non-empty value (i.e., are not NaN)\n",
    "#### unique = 4\n",
    "The number of unique values ​​in this column (e.g. 4 different contract types)\n",
    "#### top = Month-to-month\n",
    "The most frequent value in this column.\n",
    "#### freq = 3875\n",
    "Number of times the repeated value appeared"
   ]
  },
  {
   "cell_type": "code",
   "execution_count": 9,
   "id": "b01d0bd6-b00f-456d-8351-7a0d156934e0",
   "metadata": {},
   "outputs": [
    {
     "name": "stdout",
     "output_type": "stream",
     "text": [
      "count               7044\n",
      "unique                 4\n",
      "top       Month-to-month\n",
      "freq                3875\n",
      "Name: Contract, dtype: object\n"
     ]
    }
   ],
   "source": [
    "describe_column = df['Contract'].describe()\n",
    "print(describe_column )\n",
    "# df['Contract'].unique()"
   ]
  },
  {
   "cell_type": "code",
   "execution_count": 10,
   "id": "7f64721a-fe58-414e-b86a-a0956f5d26d2",
   "metadata": {
    "scrolled": true
   },
   "outputs": [
    {
     "data": {
      "image/png": "[encoded data removed]",
      "text/plain": [
       "<Figure size 640x480 with 1 Axes>"
      ]
     },
     "metadata": {},
     "output_type": "display_data"
    }
   ],
   "source": [
    "sns.countplot(x=describe_column,data=df)\n",
    "plt.show()"
   ]
  },
  {
   "cell_type": "markdown",
   "id": "2fe142e7-d071-452d-82c7-4600dd33aea5",
   "metadata": {},
   "source": [
    "#### Identify a piece of data that shows which users are collaborating or disconnecting:"
   ]
  },
  {
   "cell_type": "code",
   "execution_count": 11,
   "id": "7b91a8bd-4413-470b-8851-e9f91eb70fd2",
   "metadata": {},
   "outputs": [
    {
     "data": {
      "text/html": [
       "<div>\n",
       "<style scoped>\n",
       "    .dataframe tbody tr th:only-of-type {\n",
       "        vertical-align: middle;\n",
       "    }\n",
       "\n",
       "    .dataframe tbody tr th {\n",
       "        vertical-align: top;\n",
       "    }\n",
       "\n",
       "    .dataframe thead th {\n",
       "        text-align: right;\n",
       "    }\n",
       "</style>\n",
       "<table border=\"1\" class=\"dataframe\">\n",
       "  <thead>\n",
       "    <tr style=\"text-align: right;\">\n",
       "      <th></th>\n",
       "      <th>customerID</th>\n",
       "      <th>Churn</th>\n",
       "    </tr>\n",
       "  </thead>\n",
       "  <tbody>\n",
       "    <tr>\n",
       "      <th>5</th>\n",
       "      <td>9305-CDSKC</td>\n",
       "      <td>Yes</td>\n",
       "    </tr>\n",
       "    <tr>\n",
       "      <th>6</th>\n",
       "      <td>1452-KIOVK</td>\n",
       "      <td>No</td>\n",
       "    </tr>\n",
       "    <tr>\n",
       "      <th>7</th>\n",
       "      <td>6713-OKOMC</td>\n",
       "      <td>No</td>\n",
       "    </tr>\n",
       "    <tr>\n",
       "      <th>8</th>\n",
       "      <td>7892-POOKP</td>\n",
       "      <td>Yes</td>\n",
       "    </tr>\n",
       "    <tr>\n",
       "      <th>9</th>\n",
       "      <td>6388-TABGU</td>\n",
       "      <td>No</td>\n",
       "    </tr>\n",
       "    <tr>\n",
       "      <th>10</th>\n",
       "      <td>9763-GRSKD</td>\n",
       "      <td>No</td>\n",
       "    </tr>\n",
       "  </tbody>\n",
       "</table>\n",
       "</div>"
      ],
      "text/plain": [
       "    customerID Churn\n",
       "5   9305-CDSKC   Yes\n",
       "6   1452-KIOVK    No\n",
       "7   6713-OKOMC    No\n",
       "8   7892-POOKP   Yes\n",
       "9   6388-TABGU    No\n",
       "10  9763-GRSKD    No"
      ]
     },
     "execution_count": 11,
     "metadata": {},
     "output_type": "execute_result"
    }
   ],
   "source": [
    "df.loc[5:10, ['customerID', 'Churn']]"
   ]
  },
  {
   "cell_type": "code",
   "execution_count": 12,
   "id": "4221c689-4107-46f5-b30d-b547ec83b63a",
   "metadata": {},
   "outputs": [],
   "source": [
    "# #### This command converts the entire data frame into a NumPy array, ready for modeling or numerical processing:\n",
    "# df.to_numpy()"
   ]
  },
  {
   "cell_type": "code",
   "execution_count": 13,
   "id": "89d870d5-12b7-4063-9d12-8c700e828df5",
   "metadata": {},
   "outputs": [
    {
     "data": {
      "text/html": [
       "<div>\n",
       "<style scoped>\n",
       "    .dataframe tbody tr th:only-of-type {\n",
       "        vertical-align: middle;\n",
       "    }\n",
       "\n",
       "    .dataframe tbody tr th {\n",
       "        vertical-align: top;\n",
       "    }\n",
       "\n",
       "    .dataframe thead th {\n",
       "        text-align: right;\n",
       "    }\n",
       "</style>\n",
       "<table border=\"1\" class=\"dataframe\">\n",
       "  <thead>\n",
       "    <tr style=\"text-align: right;\">\n",
       "      <th></th>\n",
       "      <th>customerID</th>\n",
       "      <th>gender</th>\n",
       "      <th>SeniorCitizen</th>\n",
       "      <th>Partner</th>\n",
       "      <th>Dependents</th>\n",
       "      <th>tenure</th>\n",
       "      <th>PhoneService</th>\n",
       "      <th>MultipleLines</th>\n",
       "      <th>InternetService</th>\n",
       "      <th>OnlineSecurity</th>\n",
       "      <th>...</th>\n",
       "      <th>DeviceProtection</th>\n",
       "      <th>TechSupport</th>\n",
       "      <th>StreamingTV</th>\n",
       "      <th>StreamingMovies</th>\n",
       "      <th>Contract</th>\n",
       "      <th>PaperlessBilling</th>\n",
       "      <th>PaymentMethod</th>\n",
       "      <th>MonthlyCharges</th>\n",
       "      <th>TotalCharges</th>\n",
       "      <th>Churn</th>\n",
       "    </tr>\n",
       "  </thead>\n",
       "  <tbody>\n",
       "    <tr>\n",
       "      <th>0</th>\n",
       "      <td>False</td>\n",
       "      <td>False</td>\n",
       "      <td>False</td>\n",
       "      <td>False</td>\n",
       "      <td>False</td>\n",
       "      <td>False</td>\n",
       "      <td>False</td>\n",
       "      <td>False</td>\n",
       "      <td>False</td>\n",
       "      <td>False</td>\n",
       "      <td>...</td>\n",
       "      <td>False</td>\n",
       "      <td>False</td>\n",
       "      <td>False</td>\n",
       "      <td>False</td>\n",
       "      <td>False</td>\n",
       "      <td>False</td>\n",
       "      <td>False</td>\n",
       "      <td>False</td>\n",
       "      <td>False</td>\n",
       "      <td>False</td>\n",
       "    </tr>\n",
       "    <tr>\n",
       "      <th>1</th>\n",
       "      <td>False</td>\n",
       "      <td>False</td>\n",
       "      <td>False</td>\n",
       "      <td>False</td>\n",
       "      <td>False</td>\n",
       "      <td>False</td>\n",
       "      <td>False</td>\n",
       "      <td>False</td>\n",
       "      <td>False</td>\n",
       "      <td>False</td>\n",
       "      <td>...</td>\n",
       "      <td>False</td>\n",
       "      <td>False</td>\n",
       "      <td>False</td>\n",
       "      <td>False</td>\n",
       "      <td>False</td>\n",
       "      <td>False</td>\n",
       "      <td>False</td>\n",
       "      <td>False</td>\n",
       "      <td>False</td>\n",
       "      <td>False</td>\n",
       "    </tr>\n",
       "    <tr>\n",
       "      <th>2</th>\n",
       "      <td>False</td>\n",
       "      <td>False</td>\n",
       "      <td>False</td>\n",
       "      <td>False</td>\n",
       "      <td>False</td>\n",
       "      <td>False</td>\n",
       "      <td>False</td>\n",
       "      <td>False</td>\n",
       "      <td>False</td>\n",
       "      <td>False</td>\n",
       "      <td>...</td>\n",
       "      <td>False</td>\n",
       "      <td>False</td>\n",
       "      <td>False</td>\n",
       "      <td>False</td>\n",
       "      <td>False</td>\n",
       "      <td>False</td>\n",
       "      <td>False</td>\n",
       "      <td>False</td>\n",
       "      <td>False</td>\n",
       "      <td>False</td>\n",
       "    </tr>\n",
       "    <tr>\n",
       "      <th>3</th>\n",
       "      <td>False</td>\n",
       "      <td>False</td>\n",
       "      <td>False</td>\n",
       "      <td>False</td>\n",
       "      <td>False</td>\n",
       "      <td>False</td>\n",
       "      <td>False</td>\n",
       "      <td>False</td>\n",
       "      <td>False</td>\n",
       "      <td>False</td>\n",
       "      <td>...</td>\n",
       "      <td>False</td>\n",
       "      <td>False</td>\n",
       "      <td>False</td>\n",
       "      <td>False</td>\n",
       "      <td>False</td>\n",
       "      <td>False</td>\n",
       "      <td>False</td>\n",
       "      <td>False</td>\n",
       "      <td>False</td>\n",
       "      <td>False</td>\n",
       "    </tr>\n",
       "    <tr>\n",
       "      <th>4</th>\n",
       "      <td>False</td>\n",
       "      <td>False</td>\n",
       "      <td>False</td>\n",
       "      <td>False</td>\n",
       "      <td>False</td>\n",
       "      <td>False</td>\n",
       "      <td>False</td>\n",
       "      <td>False</td>\n",
       "      <td>False</td>\n",
       "      <td>False</td>\n",
       "      <td>...</td>\n",
       "      <td>False</td>\n",
       "      <td>False</td>\n",
       "      <td>False</td>\n",
       "      <td>False</td>\n",
       "      <td>False</td>\n",
       "      <td>False</td>\n",
       "      <td>False</td>\n",
       "      <td>False</td>\n",
       "      <td>False</td>\n",
       "      <td>False</td>\n",
       "    </tr>\n",
       "    <tr>\n",
       "      <th>...</th>\n",
       "      <td>...</td>\n",
       "      <td>...</td>\n",
       "      <td>...</td>\n",
       "      <td>...</td>\n",
       "      <td>...</td>\n",
       "      <td>...</td>\n",
       "      <td>...</td>\n",
       "      <td>...</td>\n",
       "      <td>...</td>\n",
       "      <td>...</td>\n",
       "      <td>...</td>\n",
       "      <td>...</td>\n",
       "      <td>...</td>\n",
       "      <td>...</td>\n",
       "      <td>...</td>\n",
       "      <td>...</td>\n",
       "      <td>...</td>\n",
       "      <td>...</td>\n",
       "      <td>...</td>\n",
       "      <td>...</td>\n",
       "      <td>...</td>\n",
       "    </tr>\n",
       "    <tr>\n",
       "      <th>7039</th>\n",
       "      <td>False</td>\n",
       "      <td>False</td>\n",
       "      <td>False</td>\n",
       "      <td>False</td>\n",
       "      <td>False</td>\n",
       "      <td>False</td>\n",
       "      <td>False</td>\n",
       "      <td>False</td>\n",
       "      <td>False</td>\n",
       "      <td>False</td>\n",
       "      <td>...</td>\n",
       "      <td>False</td>\n",
       "      <td>False</td>\n",
       "      <td>False</td>\n",
       "      <td>False</td>\n",
       "      <td>False</td>\n",
       "      <td>False</td>\n",
       "      <td>False</td>\n",
       "      <td>False</td>\n",
       "      <td>False</td>\n",
       "      <td>False</td>\n",
       "    </tr>\n",
       "    <tr>\n",
       "      <th>7040</th>\n",
       "      <td>False</td>\n",
       "      <td>False</td>\n",
       "      <td>False</td>\n",
       "      <td>False</td>\n",
       "      <td>False</td>\n",
       "      <td>False</td>\n",
       "      <td>False</td>\n",
       "      <td>False</td>\n",
       "      <td>False</td>\n",
       "      <td>False</td>\n",
       "      <td>...</td>\n",
       "      <td>False</td>\n",
       "      <td>False</td>\n",
       "      <td>False</td>\n",
       "      <td>False</td>\n",
       "      <td>False</td>\n",
       "      <td>False</td>\n",
       "      <td>False</td>\n",
       "      <td>False</td>\n",
       "      <td>False</td>\n",
       "      <td>False</td>\n",
       "    </tr>\n",
       "    <tr>\n",
       "      <th>7041</th>\n",
       "      <td>False</td>\n",
       "      <td>False</td>\n",
       "      <td>False</td>\n",
       "      <td>False</td>\n",
       "      <td>False</td>\n",
       "      <td>False</td>\n",
       "      <td>False</td>\n",
       "      <td>False</td>\n",
       "      <td>False</td>\n",
       "      <td>False</td>\n",
       "      <td>...</td>\n",
       "      <td>False</td>\n",
       "      <td>False</td>\n",
       "      <td>False</td>\n",
       "      <td>False</td>\n",
       "      <td>False</td>\n",
       "      <td>False</td>\n",
       "      <td>False</td>\n",
       "      <td>False</td>\n",
       "      <td>False</td>\n",
       "      <td>False</td>\n",
       "    </tr>\n",
       "    <tr>\n",
       "      <th>7042</th>\n",
       "      <td>False</td>\n",
       "      <td>False</td>\n",
       "      <td>False</td>\n",
       "      <td>False</td>\n",
       "      <td>False</td>\n",
       "      <td>False</td>\n",
       "      <td>False</td>\n",
       "      <td>False</td>\n",
       "      <td>False</td>\n",
       "      <td>False</td>\n",
       "      <td>...</td>\n",
       "      <td>False</td>\n",
       "      <td>False</td>\n",
       "      <td>False</td>\n",
       "      <td>False</td>\n",
       "      <td>False</td>\n",
       "      <td>False</td>\n",
       "      <td>False</td>\n",
       "      <td>False</td>\n",
       "      <td>False</td>\n",
       "      <td>False</td>\n",
       "    </tr>\n",
       "    <tr>\n",
       "      <th>7043</th>\n",
       "      <td>False</td>\n",
       "      <td>False</td>\n",
       "      <td>False</td>\n",
       "      <td>False</td>\n",
       "      <td>False</td>\n",
       "      <td>False</td>\n",
       "      <td>False</td>\n",
       "      <td>False</td>\n",
       "      <td>False</td>\n",
       "      <td>False</td>\n",
       "      <td>...</td>\n",
       "      <td>False</td>\n",
       "      <td>False</td>\n",
       "      <td>False</td>\n",
       "      <td>False</td>\n",
       "      <td>False</td>\n",
       "      <td>False</td>\n",
       "      <td>False</td>\n",
       "      <td>False</td>\n",
       "      <td>False</td>\n",
       "      <td>False</td>\n",
       "    </tr>\n",
       "  </tbody>\n",
       "</table>\n",
       "<p>7044 rows × 21 columns</p>\n",
       "</div>"
      ],
      "text/plain": [
       "      customerID  gender  SeniorCitizen  Partner  Dependents  tenure  \\\n",
       "0          False   False          False    False       False   False   \n",
       "1          False   False          False    False       False   False   \n",
       "2          False   False          False    False       False   False   \n",
       "3          False   False          False    False       False   False   \n",
       "4          False   False          False    False       False   False   \n",
       "...          ...     ...            ...      ...         ...     ...   \n",
       "7039       False   False          False    False       False   False   \n",
       "7040       False   False          False    False       False   False   \n",
       "7041       False   False          False    False       False   False   \n",
       "7042       False   False          False    False       False   False   \n",
       "7043       False   False          False    False       False   False   \n",
       "\n",
       "      PhoneService  MultipleLines  InternetService  OnlineSecurity  ...  \\\n",
       "0            False          False            False           False  ...   \n",
       "1            False          False            False           False  ...   \n",
       "2            False          False            False           False  ...   \n",
       "3            False          False            False           False  ...   \n",
       "4            False          False            False           False  ...   \n",
       "...            ...            ...              ...             ...  ...   \n",
       "7039         False          False            False           False  ...   \n",
       "7040         False          False            False           False  ...   \n",
       "7041         False          False            False           False  ...   \n",
       "7042         False          False            False           False  ...   \n",
       "7043         False          False            False           False  ...   \n",
       "\n",
       "      DeviceProtection  TechSupport  StreamingTV  StreamingMovies  Contract  \\\n",
       "0                False        False        False            False     False   \n",
       "1                False        False        False            False     False   \n",
       "2                False        False        False            False     False   \n",
       "3                False        False        False            False     False   \n",
       "4                False        False        False            False     False   \n",
       "...                ...          ...          ...              ...       ...   \n",
       "7039             False        False        False            False     False   \n",
       "7040             False        False        False            False     False   \n",
       "7041             False        False        False            False     False   \n",
       "7042             False        False        False            False     False   \n",
       "7043             False        False        False            False     False   \n",
       "\n",
       "      PaperlessBilling  PaymentMethod  MonthlyCharges  TotalCharges  Churn  \n",
       "0                False          False           False         False  False  \n",
       "1                False          False           False         False  False  \n",
       "2                False          False           False         False  False  \n",
       "3                False          False           False         False  False  \n",
       "4                False          False           False         False  False  \n",
       "...                ...            ...             ...           ...    ...  \n",
       "7039             False          False           False         False  False  \n",
       "7040             False          False           False         False  False  \n",
       "7041             False          False           False         False  False  \n",
       "7042             False          False           False         False  False  \n",
       "7043             False          False           False         False  False  \n",
       "\n",
       "[7044 rows x 21 columns]"
      ]
     },
     "execution_count": 13,
     "metadata": {},
     "output_type": "execute_result"
    }
   ],
   "source": [
    "df.isna()"
   ]
  },
  {
   "cell_type": "code",
   "execution_count": 14,
   "id": "a7ac55b7-e79e-4d18-b17a-a1f09adb81a7",
   "metadata": {
    "scrolled": true
   },
   "outputs": [
    {
     "data": {
      "text/plain": [
       "customerID          0\n",
       "gender              0\n",
       "SeniorCitizen       0\n",
       "Partner             0\n",
       "Dependents          0\n",
       "tenure              0\n",
       "PhoneService        0\n",
       "MultipleLines       0\n",
       "InternetService     0\n",
       "OnlineSecurity      0\n",
       "OnlineBackup        0\n",
       "DeviceProtection    0\n",
       "TechSupport         0\n",
       "StreamingTV         0\n",
       "StreamingMovies     0\n",
       "Contract            0\n",
       "PaperlessBilling    0\n",
       "PaymentMethod       0\n",
       "MonthlyCharges      0\n",
       "TotalCharges        0\n",
       "Churn               0\n",
       "dtype: int64"
      ]
     },
     "execution_count": 14,
     "metadata": {},
     "output_type": "execute_result"
    }
   ],
   "source": [
    "df.isna().sum()"
   ]
  },
  {
   "cell_type": "markdown",
   "id": "7eb30fb0-1083-485c-a6d6-8ac6823b8190",
   "metadata": {},
   "source": [
    "### This code plots three histograms side by side to compare the distribution of the 'Churn, tenure, and Contract' attributes:"
   ]
  },
  {
   "cell_type": "code",
   "execution_count": 15,
   "id": "dadc5569-a47f-4579-9071-0739019528a4",
   "metadata": {},
   "outputs": [],
   "source": [
    "Churn=df['Churn']\n",
    "tenure=df['tenure']\n",
    "Contract=df['Contract']"
   ]
  },
  {
   "cell_type": "code",
   "execution_count": 16,
   "id": "026e6282-65de-457b-9cac-4a5053794537",
   "metadata": {},
   "outputs": [
    {
     "data": {
      "image/png": "[encoded data removed]",
      "text/plain": [
       "<Figure size 2000x500 with 3 Axes>"
      ]
     },
     "metadata": {},
     "output_type": "display_data"
    }
   ],
   "source": [
    "fig, axes = plt.subplots(1, 3, figsize=(20,5))\n",
    "\n",
    "# Plotting graphs on each axis\n",
    "sns.histplot(df[\"Churn\"], ax=axes[0], kde=False)\n",
    "sns.histplot(df[\"tenure\"], ax=axes[1], kde=False)\n",
    "sns.histplot(df[\"Contract\"], ax=axes[2], kde=False)\n",
    "\n",
    "plt.tight_layout()\n",
    "plt.show()\n",
    "\n",
    "# A histogram displays a column:\n",
    "# sns.countplot(x=Contract,data=df)\n",
    "# plt.show()"
   ]
  },
  {
   "cell_type": "code",
   "execution_count": 17,
   "id": "c0780f1e-d448-4598-8df0-750d8e3979e1",
   "metadata": {},
   "outputs": [
    {
     "data": {
      "text/plain": [
       "customerID          0.0\n",
       "gender              0.0\n",
       "SeniorCitizen       0.0\n",
       "Partner             0.0\n",
       "Dependents          0.0\n",
       "tenure              0.0\n",
       "PhoneService        0.0\n",
       "MultipleLines       0.0\n",
       "InternetService     0.0\n",
       "OnlineSecurity      0.0\n",
       "OnlineBackup        0.0\n",
       "DeviceProtection    0.0\n",
       "TechSupport         0.0\n",
       "StreamingTV         0.0\n",
       "StreamingMovies     0.0\n",
       "Contract            0.0\n",
       "PaperlessBilling    0.0\n",
       "PaymentMethod       0.0\n",
       "MonthlyCharges      0.0\n",
       "TotalCharges        0.0\n",
       "Churn               0.0\n",
       "dtype: float64"
      ]
     },
     "execution_count": 17,
     "metadata": {},
     "output_type": "execute_result"
    }
   ],
   "source": [
    "# Shows what percentage of missing values each column has.\n",
    "df.isna().sum() / df.shape[0] * 100"
   ]
  },
  {
   "cell_type": "code",
   "execution_count": 18,
   "id": "7e0660fc-f69f-49ba-9c2e-21b1a73be92d",
   "metadata": {},
   "outputs": [
    {
     "name": "stdout",
     "output_type": "stream",
     "text": [
      "['Contract', 'Month-to-month', 'One year', 'Two year']\n",
      "['0', '1', '10', '11', '12', '13', '14', '15', '16', '17', '18', '19', '2', '20', '21', '22', '23', '24', '25', '26', '27', '28', '29', '3', '30', '31', '32', '33', '34', '35', '36', '37', '38', '39', '4', '40', '41', '42', '43', '44', '45', '46', '47', '48', '49', '5', '50', '51', '52', '53', '54', '55', '56', '57', '58', '59', '6', '60', '61', '62', '63', '64', '65', '66', '67', '68', '69', '7', '70', '71', '72', '8', '9', 'tenure']\n",
      "['Churn', 'No', 'Yes']\n"
     ]
    }
   ],
   "source": [
    "# Used a for loop to get unique values for three columns.\n",
    "boolean_cols =  ['Contract','tenure','Churn']\n",
    "for col in boolean_cols :\n",
    "    print(sorted(df[col].unique()) ) # or nunique"
   ]
  },
  {
   "cell_type": "code",
   "execution_count": 20,
   "id": "2f4472a4-e398-41b9-84cf-10318632beff",
   "metadata": {},
   "outputs": [],
   "source": [
    "\n",
    "# # # Make sure your data has valid values before calculating correlation\n",
    "# # # Example with sample data:\n",
    "# df = pd.DataFrame(np.random.rand(10, 21), columns=['customerID',\n",
    "# 'gender',\n",
    "# 'SeniorCitizen',\n",
    "# 'Partner',\n",
    "# 'Dependents',\n",
    "# 'tenure',\n",
    "# 'PhoneService',\n",
    "# 'MultipleLines',\n",
    "# 'InternetService',\n",
    "# 'OnlineSecurity',\n",
    "# 'OnlineBackup',\n",
    "# 'DeviceProtection',\n",
    "# 'TechSupport',\n",
    "# 'StreamingTV',\n",
    "# 'StreamingMovies',\n",
    "# 'Contract',\n",
    "# 'PaperlessBilling',\n",
    "# 'PaymentMethod',\n",
    "# 'MonthlyCharges',\n",
    "# 'TotalCharges',\n",
    "# 'Churn'])\n",
    "\n",
    "# # Calculate correlation matrix\n",
    "# corr = df.corr()\n",
    "\n",
    "# # Check if correlation matrix has valid values\n",
    "# if corr.size > 0 and not corr.isna().all().all():\n",
    "#     # Plot heatmap\n",
    "#     sns.heatmap(corr)\n",
    "# else:\n",
    "#     print(\"Correlation matrix is empty or contains only NaN values\")\n",
    "#     # You might want to investigate your original data"
   ]
  },
  {
   "cell_type": "code",
   "execution_count": 21,
   "id": "f7833071-f828-4f70-ba4b-455939947e74",
   "metadata": {},
   "outputs": [],
   "source": [
    "# df_encoded = df.copy()\n",
    "# for col in df.select_dtypes(include='object').columns:\n",
    "#     df_encoded[col] = df_encoded[col].astype('category').cat.codes\n",
    "\n",
    "# corr = df_encoded.corr()\n",
    "# sns.heatmap(corr, annot=False, cmap='coolwarm')"
   ]
  },
  {
   "cell_type": "code",
   "execution_count": 22,
   "id": "3598de7d-0dd8-4024-8ee9-1307e30a6637",
   "metadata": {},
   "outputs": [],
   "source": [
    "# data_numeric= df.select_dtypes(include='number').corr()"
   ]
  },
  {
   "cell_type": "code",
   "execution_count": 23,
   "id": "788da18d-de24-495a-9a62-1150e35791e2",
   "metadata": {},
   "outputs": [
    {
     "name": "stdout",
     "output_type": "stream",
     "text": [
      "Series([], dtype: float64)\n"
     ]
    }
   ],
   "source": [
    "print(df.select_dtypes(include='number').nunique())"
   ]
  },
  {
   "cell_type": "code",
   "execution_count": 24,
   "id": "41548986-9285-4e83-a157-754b502bb6e9",
   "metadata": {},
   "outputs": [],
   "source": [
    "# corr= data_numeric.corr()"
   ]
  },
  {
   "cell_type": "code",
   "execution_count": 25,
   "id": "b963b3c9-3d62-4720-bdaa-79830c7c52d5",
   "metadata": {},
   "outputs": [],
   "source": [
    "# sns.heatmap(corr)"
   ]
  },
  {
   "cell_type": "markdown",
   "id": "ee0cf095-23bc-48cc-bb01-51cabc0b5dc6",
   "metadata": {},
   "source": [
    "##### To get the start date of each customer, we need to subtract the number of months in which the tenure was recorded from today's date or any date we want, and we get the start date of each customer And to find out the date of departure of each customer, we need to add the number of months in the tenure to the start date, provided that the number 1 is recorded in the churn column, which means the customer left, and with this method, the departure date of each customer is recorded in the end_date column.\n",
    "### This tool is used for time-based analysis such as:\n",
    "- Examining churn rates over different months\n",
    "- Analyzing the behavior of new customers versus existing customers\n",
    "- Creating group charts"
   ]
  },
  {
   "cell_type": "markdown",
   "id": "ff1afd7f-d4ec-49e9-ab76-61b33f30ab1d",
   "metadata": {},
   "source": [
    "1. First we need to convert that reference date to datetime, because you want to perform date operations on it.\n",
    "Think about it: What function in pandas is there that converts the string ``2025-07-21'' to a datetime object?\n",
    "2. Now for each row (customer), you want to subtract the number of months from that date.\n",
    "Question: Does pandas have a function that can subtract \"a certain number of months\" from a date? Not days, not weeks, just months?\n",
    "3.Now that you have found the right function to subtract the month, how do you apply it to all customers (all rows in the dataframe)?\n",
    "For example, with `.apply()` or with a direct vector operation."
   ]
  },
  {
   "cell_type": "code",
   "execution_count": 26,
   "id": "e4446981-950f-4283-b4f7-e5821980706c",
   "metadata": {},
   "outputs": [],
   "source": [
    "# Assuming df is already defined with a 'tenure' column containing numeric values And we have to choose the date of the merger.\n",
    "current_date = pd.to_datetime(\"2025-08-29\")\n",
    "\n",
    "# Make sure tenure column contains numeric values and handle any non-numeric values\n",
    "df['tenure'] = pd.to_numeric(df['tenure'], errors='coerce')\n",
    "\n",
    "# Convert tenure to integer before applying DateOffset\n",
    "# Using fillna(0) to handle any NaN values that might result from the conversion\n",
    "df['start_date'] = df['tenure'].fillna(0).apply(lambda x: current_date - pd.DateOffset(months=int(x)))"
   ]
  },
  {
   "cell_type": "code",
   "execution_count": 27,
   "id": "ea8c53f5-47ca-46ef-95bf-f345642f2b0c",
   "metadata": {},
   "outputs": [
    {
     "data": {
      "text/plain": [
       "customerID                  object\n",
       "gender                      object\n",
       "SeniorCitizen               object\n",
       "Partner                     object\n",
       "Dependents                  object\n",
       "tenure                     float64\n",
       "PhoneService                object\n",
       "MultipleLines               object\n",
       "InternetService             object\n",
       "OnlineSecurity              object\n",
       "OnlineBackup                object\n",
       "DeviceProtection            object\n",
       "TechSupport                 object\n",
       "StreamingTV                 object\n",
       "StreamingMovies             object\n",
       "Contract                    object\n",
       "PaperlessBilling            object\n",
       "PaymentMethod               object\n",
       "MonthlyCharges              object\n",
       "TotalCharges                object\n",
       "Churn                       object\n",
       "start_date          datetime64[ns]\n",
       "dtype: object"
      ]
     },
     "execution_count": 27,
     "metadata": {},
     "output_type": "execute_result"
    }
   ],
   "source": [
    "df.dtypes"
   ]
  },
  {
   "cell_type": "markdown",
   "id": "a75595b3-e750-4925-a21c-c0adce1e982a",
   "metadata": {},
   "source": [
    "##### For customers who left, the exit date was calculated by adding the number of months of attendance to the start date. \n",
    "##### For active customers, the reference date (e.g., today) was recorded as the current exit date to complete the end_date column."
   ]
  },
  {
   "cell_type": "code",
   "execution_count": 28,
   "id": "34a2fdf0-5927-4e64-8e4e-78f27d44b9f9",
   "metadata": {},
   "outputs": [],
   "source": [
    "# To get the exit date of customers who left, we need to add the number of months they were active to their start date.\n",
    "df['end_date'] = df.apply(\n",
    "    lambda row: row['start_date'] + pd.DateOffset(months=int(row['tenure'])) if row['Churn'] == 'Yes' else current_date,\n",
    "    axis=1\n",
    ")"
   ]
  },
  {
   "cell_type": "code",
   "execution_count": 29,
   "id": "f41ab349-d835-419f-adb0-26e929bc05e2",
   "metadata": {},
   "outputs": [
    {
     "data": {
      "text/html": [
       "<div>\n",
       "<style scoped>\n",
       "    .dataframe tbody tr th:only-of-type {\n",
       "        vertical-align: middle;\n",
       "    }\n",
       "\n",
       "    .dataframe tbody tr th {\n",
       "        vertical-align: top;\n",
       "    }\n",
       "\n",
       "    .dataframe thead th {\n",
       "        text-align: right;\n",
       "    }\n",
       "</style>\n",
       "<table border=\"1\" class=\"dataframe\">\n",
       "  <thead>\n",
       "    <tr style=\"text-align: right;\">\n",
       "      <th></th>\n",
       "      <th>customerID</th>\n",
       "      <th>gender</th>\n",
       "      <th>SeniorCitizen</th>\n",
       "      <th>Partner</th>\n",
       "      <th>Dependents</th>\n",
       "      <th>tenure</th>\n",
       "      <th>PhoneService</th>\n",
       "      <th>MultipleLines</th>\n",
       "      <th>InternetService</th>\n",
       "      <th>OnlineSecurity</th>\n",
       "      <th>...</th>\n",
       "      <th>StreamingTV</th>\n",
       "      <th>StreamingMovies</th>\n",
       "      <th>Contract</th>\n",
       "      <th>PaperlessBilling</th>\n",
       "      <th>PaymentMethod</th>\n",
       "      <th>MonthlyCharges</th>\n",
       "      <th>TotalCharges</th>\n",
       "      <th>Churn</th>\n",
       "      <th>start_date</th>\n",
       "      <th>end_date</th>\n",
       "    </tr>\n",
       "  </thead>\n",
       "  <tbody>\n",
       "    <tr>\n",
       "      <th>0</th>\n",
       "      <td>7590-VHVEG</td>\n",
       "      <td>Female</td>\n",
       "      <td>0</td>\n",
       "      <td>Yes</td>\n",
       "      <td>No</td>\n",
       "      <td>1.0</td>\n",
       "      <td>No</td>\n",
       "      <td>No phone service</td>\n",
       "      <td>DSL</td>\n",
       "      <td>No</td>\n",
       "      <td>...</td>\n",
       "      <td>No</td>\n",
       "      <td>No</td>\n",
       "      <td>Month-to-month</td>\n",
       "      <td>Yes</td>\n",
       "      <td>Electronic check</td>\n",
       "      <td>29.85</td>\n",
       "      <td>29.85</td>\n",
       "      <td>No</td>\n",
       "      <td>2025-07-29</td>\n",
       "      <td>2025-08-29</td>\n",
       "    </tr>\n",
       "    <tr>\n",
       "      <th>1</th>\n",
       "      <td>5575-GNVDE</td>\n",
       "      <td>Male</td>\n",
       "      <td>0</td>\n",
       "      <td>No</td>\n",
       "      <td>No</td>\n",
       "      <td>34.0</td>\n",
       "      <td>Yes</td>\n",
       "      <td>No</td>\n",
       "      <td>DSL</td>\n",
       "      <td>Yes</td>\n",
       "      <td>...</td>\n",
       "      <td>No</td>\n",
       "      <td>No</td>\n",
       "      <td>One year</td>\n",
       "      <td>No</td>\n",
       "      <td>Mailed check</td>\n",
       "      <td>56.95</td>\n",
       "      <td>1889.5</td>\n",
       "      <td>No</td>\n",
       "      <td>2022-10-29</td>\n",
       "      <td>2025-08-29</td>\n",
       "    </tr>\n",
       "    <tr>\n",
       "      <th>2</th>\n",
       "      <td>3668-QPYBK</td>\n",
       "      <td>Male</td>\n",
       "      <td>0</td>\n",
       "      <td>No</td>\n",
       "      <td>No</td>\n",
       "      <td>2.0</td>\n",
       "      <td>Yes</td>\n",
       "      <td>No</td>\n",
       "      <td>DSL</td>\n",
       "      <td>Yes</td>\n",
       "      <td>...</td>\n",
       "      <td>No</td>\n",
       "      <td>No</td>\n",
       "      <td>Month-to-month</td>\n",
       "      <td>Yes</td>\n",
       "      <td>Mailed check</td>\n",
       "      <td>53.85</td>\n",
       "      <td>108.15</td>\n",
       "      <td>Yes</td>\n",
       "      <td>2025-06-29</td>\n",
       "      <td>2025-08-29</td>\n",
       "    </tr>\n",
       "    <tr>\n",
       "      <th>3</th>\n",
       "      <td>7795-CFOCW</td>\n",
       "      <td>Male</td>\n",
       "      <td>0</td>\n",
       "      <td>No</td>\n",
       "      <td>No</td>\n",
       "      <td>45.0</td>\n",
       "      <td>No</td>\n",
       "      <td>No phone service</td>\n",
       "      <td>DSL</td>\n",
       "      <td>Yes</td>\n",
       "      <td>...</td>\n",
       "      <td>No</td>\n",
       "      <td>No</td>\n",
       "      <td>One year</td>\n",
       "      <td>No</td>\n",
       "      <td>Bank transfer (automatic)</td>\n",
       "      <td>42.3</td>\n",
       "      <td>1840.75</td>\n",
       "      <td>No</td>\n",
       "      <td>2021-11-29</td>\n",
       "      <td>2025-08-29</td>\n",
       "    </tr>\n",
       "    <tr>\n",
       "      <th>4</th>\n",
       "      <td>9237-HQITU</td>\n",
       "      <td>Female</td>\n",
       "      <td>0</td>\n",
       "      <td>No</td>\n",
       "      <td>No</td>\n",
       "      <td>2.0</td>\n",
       "      <td>Yes</td>\n",
       "      <td>No</td>\n",
       "      <td>Fiber optic</td>\n",
       "      <td>No</td>\n",
       "      <td>...</td>\n",
       "      <td>No</td>\n",
       "      <td>No</td>\n",
       "      <td>Month-to-month</td>\n",
       "      <td>Yes</td>\n",
       "      <td>Electronic check</td>\n",
       "      <td>70.7</td>\n",
       "      <td>151.65</td>\n",
       "      <td>Yes</td>\n",
       "      <td>2025-06-29</td>\n",
       "      <td>2025-08-29</td>\n",
       "    </tr>\n",
       "  </tbody>\n",
       "</table>\n",
       "<p>5 rows × 23 columns</p>\n",
       "</div>"
      ],
      "text/plain": [
       "   customerID  gender SeniorCitizen Partner Dependents  tenure PhoneService  \\\n",
       "0  7590-VHVEG  Female             0     Yes         No     1.0           No   \n",
       "1  5575-GNVDE    Male             0      No         No    34.0          Yes   \n",
       "2  3668-QPYBK    Male             0      No         No     2.0          Yes   \n",
       "3  7795-CFOCW    Male             0      No         No    45.0           No   \n",
       "4  9237-HQITU  Female             0      No         No     2.0          Yes   \n",
       "\n",
       "      MultipleLines InternetService OnlineSecurity  ... StreamingTV  \\\n",
       "0  No phone service             DSL             No  ...          No   \n",
       "1                No             DSL            Yes  ...          No   \n",
       "2                No             DSL            Yes  ...          No   \n",
       "3  No phone service             DSL            Yes  ...          No   \n",
       "4                No     Fiber optic             No  ...          No   \n",
       "\n",
       "  StreamingMovies        Contract PaperlessBilling              PaymentMethod  \\\n",
       "0              No  Month-to-month              Yes           Electronic check   \n",
       "1              No        One year               No               Mailed check   \n",
       "2              No  Month-to-month              Yes               Mailed check   \n",
       "3              No        One year               No  Bank transfer (automatic)   \n",
       "4              No  Month-to-month              Yes           Electronic check   \n",
       "\n",
       "  MonthlyCharges TotalCharges Churn start_date   end_date  \n",
       "0          29.85        29.85    No 2025-07-29 2025-08-29  \n",
       "1          56.95       1889.5    No 2022-10-29 2025-08-29  \n",
       "2          53.85       108.15   Yes 2025-06-29 2025-08-29  \n",
       "3           42.3      1840.75    No 2021-11-29 2025-08-29  \n",
       "4           70.7       151.65   Yes 2025-06-29 2025-08-29  \n",
       "\n",
       "[5 rows x 23 columns]"
      ]
     },
     "execution_count": 29,
     "metadata": {},
     "output_type": "execute_result"
    }
   ],
   "source": [
    "df.head()"
   ]
  },
  {
   "cell_type": "markdown",
   "id": "e1a61700-3596-44f0-ba98-49b5244def57",
   "metadata": {},
   "source": [
    "##### The first is a fixed range of monthly dates, the second is a dynamic range built based on the actual start and end dates of the customers in the dataframe."
   ]
  },
  {
   "cell_type": "code",
   "execution_count": 30,
   "id": "986a330f-1da2-46de-a7c6-375e7ea22444",
   "metadata": {},
   "outputs": [],
   "source": [
    "# This code produces a list of the first dates of each month between 2019-07-21 and 2025-08-29.\n",
    "# It is useful in time analysis, monthly customer grouping, or plotting trending trends.\n",
    "\n",
    "#1):\n",
    "# date= (pd.date_range(start='2019-08-29',\n",
    "#               end='2025-08-29',\n",
    "#               freq='MS',\n",
    "#              ))\n",
    "\n",
    "# 2):\n",
    "month_range = pd.date_range(\n",
    "    start=df['start_date'].min(),\n",
    "    end=df['end_date'].max(),\n",
    "    freq='MS'\n",
    ")"
   ]
  },
  {
   "cell_type": "markdown",
   "id": "16a51691-5452-430e-b4c5-5dd9405c4eab",
   "metadata": {},
   "source": [
    "#### Number of active customers per month:\n",
    "This code checks for each month which customers were active during that month, based on their start and end dates. \n",
    "It then stores the number of active customers per month in a list to analyze activity trends over time."
   ]
  },
  {
   "cell_type": "code",
   "execution_count": 31,
   "id": "fb72295a-69ac-477e-ab79-5f5fd3c36986",
   "metadata": {},
   "outputs": [],
   "source": [
    "active_counts = []\n",
    "\n",
    "for month in month_range:\n",
    "    active_this_month = df[\n",
    "        (df['start_date'] <= month) & (df['end_date'] >= month)\n",
    "    ]\n",
    "    \n",
    "    active_counts.append({\n",
    "        'month': month,\n",
    "        'active_customers': active_this_month.shape[0]\n",
    "    })"
   ]
  },
  {
   "cell_type": "code",
   "execution_count": 32,
   "id": "7bdc022e-b0b5-4bd3-83d7-73e8f00264a3",
   "metadata": {},
   "outputs": [],
   "source": [
    "active_customers_df = pd.DataFrame(active_counts)"
   ]
  },
  {
   "cell_type": "code",
   "execution_count": 33,
   "id": "358a2bb2-9eb2-4283-8266-ca22b95f090e",
   "metadata": {
    "scrolled": true
   },
   "outputs": [
    {
     "data": {
      "text/html": [
       "<div>\n",
       "<style scoped>\n",
       "    .dataframe tbody tr th:only-of-type {\n",
       "        vertical-align: middle;\n",
       "    }\n",
       "\n",
       "    .dataframe tbody tr th {\n",
       "        vertical-align: top;\n",
       "    }\n",
       "\n",
       "    .dataframe thead th {\n",
       "        text-align: right;\n",
       "    }\n",
       "</style>\n",
       "<table border=\"1\" class=\"dataframe\">\n",
       "  <thead>\n",
       "    <tr style=\"text-align: right;\">\n",
       "      <th></th>\n",
       "      <th>month</th>\n",
       "      <th>active_customers</th>\n",
       "    </tr>\n",
       "  </thead>\n",
       "  <tbody>\n",
       "    <tr>\n",
       "      <th>0</th>\n",
       "      <td>2019-09-01</td>\n",
       "      <td>362</td>\n",
       "    </tr>\n",
       "    <tr>\n",
       "      <th>1</th>\n",
       "      <td>2019-10-01</td>\n",
       "      <td>532</td>\n",
       "    </tr>\n",
       "    <tr>\n",
       "      <th>2</th>\n",
       "      <td>2019-11-01</td>\n",
       "      <td>651</td>\n",
       "    </tr>\n",
       "    <tr>\n",
       "      <th>3</th>\n",
       "      <td>2019-12-01</td>\n",
       "      <td>746</td>\n",
       "    </tr>\n",
       "    <tr>\n",
       "      <th>4</th>\n",
       "      <td>2020-01-01</td>\n",
       "      <td>846</td>\n",
       "    </tr>\n",
       "    <tr>\n",
       "      <th>...</th>\n",
       "      <td>...</td>\n",
       "      <td>...</td>\n",
       "    </tr>\n",
       "    <tr>\n",
       "      <th>67</th>\n",
       "      <td>2025-04-01</td>\n",
       "      <td>5805</td>\n",
       "    </tr>\n",
       "    <tr>\n",
       "      <th>68</th>\n",
       "      <td>2025-05-01</td>\n",
       "      <td>5981</td>\n",
       "    </tr>\n",
       "    <tr>\n",
       "      <th>69</th>\n",
       "      <td>2025-06-01</td>\n",
       "      <td>6181</td>\n",
       "    </tr>\n",
       "    <tr>\n",
       "      <th>70</th>\n",
       "      <td>2025-07-01</td>\n",
       "      <td>6419</td>\n",
       "    </tr>\n",
       "    <tr>\n",
       "      <th>71</th>\n",
       "      <td>2025-08-01</td>\n",
       "      <td>7032</td>\n",
       "    </tr>\n",
       "  </tbody>\n",
       "</table>\n",
       "<p>72 rows × 2 columns</p>\n",
       "</div>"
      ],
      "text/plain": [
       "        month  active_customers\n",
       "0  2019-09-01               362\n",
       "1  2019-10-01               532\n",
       "2  2019-11-01               651\n",
       "3  2019-12-01               746\n",
       "4  2020-01-01               846\n",
       "..        ...               ...\n",
       "67 2025-04-01              5805\n",
       "68 2025-05-01              5981\n",
       "69 2025-06-01              6181\n",
       "70 2025-07-01              6419\n",
       "71 2025-08-01              7032\n",
       "\n",
       "[72 rows x 2 columns]"
      ]
     },
     "execution_count": 33,
     "metadata": {},
     "output_type": "execute_result"
    }
   ],
   "source": [
    "active_customers_df"
   ]
  },
  {
   "cell_type": "markdown",
   "id": "9f2aa138-fc92-4290-ad8f-15a4cad964e7",
   "metadata": {},
   "source": [
    "### Showing active customers on three different charts :\n",
    "print(plt.style.available)"
   ]
  },
  {
   "cell_type": "code",
   "execution_count": 34,
   "id": "5a067d82-f063-41fa-8da0-efa8fdb506d2",
   "metadata": {},
   "outputs": [
    {
     "data": {
      "image/png": "[encoded data removed]",
      "text/plain": [
       "<Figure size 640x480 with 1 Axes>"
      ]
     },
     "metadata": {},
     "output_type": "display_data"
    }
   ],
   "source": [
    "plt.style.use('Solarize_Light2')\n",
    "fig, ax = plt.subplots()\n",
    "ax.plot(active_customers_df['month'],active_customers_df['active_customers'],linewidth=2)\n",
    "ax.set_title('active_customers',fontsize=16)\n",
    "ax.set_xlabel('mounts',fontsize=16)\n",
    "ax.set_ylabel('number of customer are active',fontsize=16)\n",
    "\n",
    "ax.tick_params(axis='both',labelsize=12)\n"
   ]
  },
  {
   "cell_type": "code",
   "execution_count": 35,
   "id": "38d3a039-d30a-41f7-9755-7120c87735a7",
   "metadata": {},
   "outputs": [
    {
     "data": {
      "image/png": "[encoded data removed]",
      "text/plain": [
       "<Figure size 640x480 with 1 Axes>"
      ]
     },
     "metadata": {},
     "output_type": "display_data"
    }
   ],
   "source": [
    "plt.plot(active_customers_df['month'],active_customers_df['active_customers'],marker='o', linewidth=0.5)\n",
    "plt.title('active_customers')\n",
    "plt.xlabel('month')\n",
    "plt.ylabel('number of customer are active')\n",
    "plt.grid(True)\n",
    "plt.show()"
   ]
  },
  {
   "cell_type": "code",
   "execution_count": 36,
   "id": "7e5ff17f-14b5-443b-83c2-a4a0a76607c7",
   "metadata": {},
   "outputs": [
    {
     "data": {
      "image/png": "[encoded data removed]",
      "text/plain": [
       "<Figure size 640x480 with 1 Axes>"
      ]
     },
     "metadata": {},
     "output_type": "display_data"
    }
   ],
   "source": [
    "plt.fill_between(active_customers_df['month'],active_customers_df['active_customers'], color='skyblue', alpha=0.3)\n",
    "plt.plot(active_customers_df['month'],active_customers_df['active_customers'], color='blue', linewidth=2)\n",
    "plt.title('Month')\n",
    "plt.xlabel('active_customers')\n",
    "plt.ylabel('number of customer are active')\n",
    "plt.show()"
   ]
  },
  {
   "cell_type": "markdown",
   "id": "54dbe0b4-a0d0-4e4b-8a0b-f65d94baab8a",
   "metadata": {},
   "source": [
    "### Customers who haven't made a purchase in over 90 days:\n",
    "### Average purchase in different categories"
   ]
  },
  {
   "cell_type": "code",
   "execution_count": 37,
   "id": "388dc3f9-3ad3-4b85-b095-2ff0ad54daa0",
   "metadata": {},
   "outputs": [],
   "source": [
    "buy=[]\n",
    "for i in df['MonthlyCharges']:\n",
    "    buy.append(i)"
   ]
  },
  {
   "cell_type": "code",
   "execution_count": 38,
   "id": "b172b377-794f-4926-b46c-5078fdd830de",
   "metadata": {},
   "outputs": [
    {
     "name": "stdout",
     "output_type": "stream",
     "text": [
      "100\n"
     ]
    }
   ],
   "source": [
    "maximum_value = min(buy)\n",
    "print(maximum_value)"
   ]
  },
  {
   "cell_type": "code",
   "execution_count": 39,
   "id": "0a3a7444-2ed3-4cf9-8b87-39bda6f7e568",
   "metadata": {},
   "outputs": [],
   "source": [
    "last_month = current_date - pd.DateOffset(months=1)"
   ]
  },
  {
   "cell_type": "code",
   "execution_count": 40,
   "id": "37fd4813-c099-4f56-a659-644d0de7db95",
   "metadata": {},
   "outputs": [
    {
     "data": {
      "text/plain": [
       "Timestamp('2025-07-29 00:00:00')"
      ]
     },
     "execution_count": 40,
     "metadata": {},
     "output_type": "execute_result"
    }
   ],
   "source": [
    "last_month"
   ]
  },
  {
   "cell_type": "code",
   "execution_count": 41,
   "id": "9910ed5a-ee82-4201-9463-a2625c731815",
   "metadata": {},
   "outputs": [],
   "source": [
    "active = df[df['Contract']=='One year'][['Contract','MonthlyCharges','TotalCharges']]"
   ]
  },
  {
   "cell_type": "code",
   "execution_count": 42,
   "id": "0fd713b8-b746-4291-b4f4-8d9ed966cd96",
   "metadata": {},
   "outputs": [
    {
     "data": {
      "text/html": [
       "<div>\n",
       "<style scoped>\n",
       "    .dataframe tbody tr th:only-of-type {\n",
       "        vertical-align: middle;\n",
       "    }\n",
       "\n",
       "    .dataframe tbody tr th {\n",
       "        vertical-align: top;\n",
       "    }\n",
       "\n",
       "    .dataframe thead th {\n",
       "        text-align: right;\n",
       "    }\n",
       "</style>\n",
       "<table border=\"1\" class=\"dataframe\">\n",
       "  <thead>\n",
       "    <tr style=\"text-align: right;\">\n",
       "      <th></th>\n",
       "      <th>Contract</th>\n",
       "      <th>MonthlyCharges</th>\n",
       "      <th>TotalCharges</th>\n",
       "    </tr>\n",
       "  </thead>\n",
       "  <tbody>\n",
       "    <tr>\n",
       "      <th>1</th>\n",
       "      <td>One year</td>\n",
       "      <td>56.95</td>\n",
       "      <td>1889.5</td>\n",
       "    </tr>\n",
       "    <tr>\n",
       "      <th>3</th>\n",
       "      <td>One year</td>\n",
       "      <td>42.3</td>\n",
       "      <td>1840.75</td>\n",
       "    </tr>\n",
       "    <tr>\n",
       "      <th>9</th>\n",
       "      <td>One year</td>\n",
       "      <td>56.15</td>\n",
       "      <td>3487.95</td>\n",
       "    </tr>\n",
       "    <tr>\n",
       "      <th>12</th>\n",
       "      <td>One year</td>\n",
       "      <td>100.35</td>\n",
       "      <td>5681.1</td>\n",
       "    </tr>\n",
       "    <tr>\n",
       "      <th>16</th>\n",
       "      <td>One year</td>\n",
       "      <td>20.65</td>\n",
       "      <td>1022.95</td>\n",
       "    </tr>\n",
       "    <tr>\n",
       "      <th>...</th>\n",
       "      <td>...</td>\n",
       "      <td>...</td>\n",
       "      <td>...</td>\n",
       "    </tr>\n",
       "    <tr>\n",
       "      <th>7022</th>\n",
       "      <td>One year</td>\n",
       "      <td>104.95</td>\n",
       "      <td>7544.3</td>\n",
       "    </tr>\n",
       "    <tr>\n",
       "      <th>7031</th>\n",
       "      <td>One year</td>\n",
       "      <td>60</td>\n",
       "      <td>3316.1</td>\n",
       "    </tr>\n",
       "    <tr>\n",
       "      <th>7036</th>\n",
       "      <td>One year</td>\n",
       "      <td>60.65</td>\n",
       "      <td>743.3</td>\n",
       "    </tr>\n",
       "    <tr>\n",
       "      <th>7038</th>\n",
       "      <td>One year</td>\n",
       "      <td>84.8</td>\n",
       "      <td>1990.5</td>\n",
       "    </tr>\n",
       "    <tr>\n",
       "      <th>7039</th>\n",
       "      <td>One year</td>\n",
       "      <td>103.2</td>\n",
       "      <td>7362.9</td>\n",
       "    </tr>\n",
       "  </tbody>\n",
       "</table>\n",
       "<p>1473 rows × 3 columns</p>\n",
       "</div>"
      ],
      "text/plain": [
       "      Contract MonthlyCharges TotalCharges\n",
       "1     One year          56.95       1889.5\n",
       "3     One year           42.3      1840.75\n",
       "9     One year          56.15      3487.95\n",
       "12    One year         100.35       5681.1\n",
       "16    One year          20.65      1022.95\n",
       "...        ...            ...          ...\n",
       "7022  One year         104.95       7544.3\n",
       "7031  One year             60       3316.1\n",
       "7036  One year          60.65        743.3\n",
       "7038  One year           84.8       1990.5\n",
       "7039  One year          103.2       7362.9\n",
       "\n",
       "[1473 rows x 3 columns]"
      ]
     },
     "execution_count": 42,
     "metadata": {},
     "output_type": "execute_result"
    }
   ],
   "source": [
    "active"
   ]
  },
  {
   "cell_type": "code",
   "execution_count": 43,
   "id": "30ae6fdd-ea6e-4a6f-876a-58b944b70333",
   "metadata": {},
   "outputs": [],
   "source": [
    "# df['Contract'] = (df['Contract']!='One year').map({True:1,\n",
    "#                                                        False:0,                                                    \n",
    "df['Contract'] = df['Contract'].map({'One year': 1, 'Month-to-month':0, 'Two year':2})\n"
   ]
  },
  {
   "cell_type": "code",
   "execution_count": 44,
   "id": "b48deea0-dab7-4ddc-b5bb-4565322d97a5",
   "metadata": {},
   "outputs": [
    {
     "data": {
      "text/plain": [
       "0       0.0\n",
       "1       1.0\n",
       "2       0.0\n",
       "3       1.0\n",
       "4       0.0\n",
       "       ... \n",
       "7039    1.0\n",
       "7040    0.0\n",
       "7041    0.0\n",
       "7042    2.0\n",
       "7043    NaN\n",
       "Name: Contract, Length: 7044, dtype: float64"
      ]
     },
     "execution_count": 44,
     "metadata": {},
     "output_type": "execute_result"
    }
   ],
   "source": [
    "df['Contract']"
   ]
  },
  {
   "cell_type": "code",
   "execution_count": 45,
   "id": "02a97eae-586c-4397-a4d6-756d246a902f",
   "metadata": {},
   "outputs": [
    {
     "data": {
      "text/html": [
       "<div>\n",
       "<style scoped>\n",
       "    .dataframe tbody tr th:only-of-type {\n",
       "        vertical-align: middle;\n",
       "    }\n",
       "\n",
       "    .dataframe tbody tr th {\n",
       "        vertical-align: top;\n",
       "    }\n",
       "\n",
       "    .dataframe thead th {\n",
       "        text-align: right;\n",
       "    }\n",
       "</style>\n",
       "<table border=\"1\" class=\"dataframe\">\n",
       "  <thead>\n",
       "    <tr style=\"text-align: right;\">\n",
       "      <th></th>\n",
       "      <th>Contract</th>\n",
       "      <th>MonthlyCharges</th>\n",
       "      <th>TotalCharges</th>\n",
       "    </tr>\n",
       "  </thead>\n",
       "  <tbody>\n",
       "    <tr>\n",
       "      <th>1</th>\n",
       "      <td>1.0</td>\n",
       "      <td>56.95</td>\n",
       "      <td>1889.5</td>\n",
       "    </tr>\n",
       "    <tr>\n",
       "      <th>3</th>\n",
       "      <td>1.0</td>\n",
       "      <td>42.3</td>\n",
       "      <td>1840.75</td>\n",
       "    </tr>\n",
       "    <tr>\n",
       "      <th>9</th>\n",
       "      <td>1.0</td>\n",
       "      <td>56.15</td>\n",
       "      <td>3487.95</td>\n",
       "    </tr>\n",
       "    <tr>\n",
       "      <th>12</th>\n",
       "      <td>1.0</td>\n",
       "      <td>100.35</td>\n",
       "      <td>5681.1</td>\n",
       "    </tr>\n",
       "    <tr>\n",
       "      <th>16</th>\n",
       "      <td>1.0</td>\n",
       "      <td>20.65</td>\n",
       "      <td>1022.95</td>\n",
       "    </tr>\n",
       "    <tr>\n",
       "      <th>...</th>\n",
       "      <td>...</td>\n",
       "      <td>...</td>\n",
       "      <td>...</td>\n",
       "    </tr>\n",
       "    <tr>\n",
       "      <th>7022</th>\n",
       "      <td>1.0</td>\n",
       "      <td>104.95</td>\n",
       "      <td>7544.3</td>\n",
       "    </tr>\n",
       "    <tr>\n",
       "      <th>7031</th>\n",
       "      <td>1.0</td>\n",
       "      <td>60</td>\n",
       "      <td>3316.1</td>\n",
       "    </tr>\n",
       "    <tr>\n",
       "      <th>7036</th>\n",
       "      <td>1.0</td>\n",
       "      <td>60.65</td>\n",
       "      <td>743.3</td>\n",
       "    </tr>\n",
       "    <tr>\n",
       "      <th>7038</th>\n",
       "      <td>1.0</td>\n",
       "      <td>84.8</td>\n",
       "      <td>1990.5</td>\n",
       "    </tr>\n",
       "    <tr>\n",
       "      <th>7039</th>\n",
       "      <td>1.0</td>\n",
       "      <td>103.2</td>\n",
       "      <td>7362.9</td>\n",
       "    </tr>\n",
       "  </tbody>\n",
       "</table>\n",
       "<p>1473 rows × 3 columns</p>\n",
       "</div>"
      ],
      "text/plain": [
       "      Contract MonthlyCharges TotalCharges\n",
       "1          1.0          56.95       1889.5\n",
       "3          1.0           42.3      1840.75\n",
       "9          1.0          56.15      3487.95\n",
       "12         1.0         100.35       5681.1\n",
       "16         1.0          20.65      1022.95\n",
       "...        ...            ...          ...\n",
       "7022       1.0         104.95       7544.3\n",
       "7031       1.0             60       3316.1\n",
       "7036       1.0          60.65        743.3\n",
       "7038       1.0           84.8       1990.5\n",
       "7039       1.0          103.2       7362.9\n",
       "\n",
       "[1473 rows x 3 columns]"
      ]
     },
     "execution_count": 45,
     "metadata": {},
     "output_type": "execute_result"
    }
   ],
   "source": [
    "active = df[df['Contract']==1][['Contract','MonthlyCharges','TotalCharges']]\n",
    "active"
   ]
  },
  {
   "cell_type": "markdown",
   "id": "5191ec06-d4d1-4c07-9ba0-2a5bc190f31a",
   "metadata": {},
   "source": []
  },
  {
   "cell_type": "code",
   "execution_count": 47,
   "id": "7bd5bd50-5ade-426c-ad7c-0688fdf21a1d",
   "metadata": {},
   "outputs": [],
   "source": [
    "df.groupby('gender')['MonthlyCharges'].mean()"
   ]
  },
  {
   "cell_type": "code",
   "execution_count": null,
   "id": "7903c062-0533-4386-b079-8c6415fb4972",
   "metadata": {},
   "outputs": [],
   "source": [
    "df.groupby('Contract')['MonthlyCharges'].mean()"
   ]
  },
  {
   "cell_type": "code",
   "execution_count": 51,
   "id": "60a30dad-5f23-4361-bde8-f565386e96d4",
   "metadata": {},
   "outputs": [],
   "source": [
    "# standard deviation :\n",
    "df.groupby('Contract')['MonthlyCharges'].std() "
   ]
  },
  {
   "cell_type": "code",
   "execution_count": 52,
   "id": "3cfa3e8f-4b52-4d4c-8117-d3aaf521bb1f",
   "metadata": {},
   "outputs": [
    {
     "data": {
      "text/plain": [
       "0         29.85\n",
       "1       1889.50\n",
       "2        108.15\n",
       "3       1840.75\n",
       "4        151.65\n",
       "         ...   \n",
       "7039    7362.90\n",
       "7040     346.45\n",
       "7041     306.60\n",
       "7042    6844.50\n",
       "7043        NaN\n",
       "Name: TotalCharges, Length: 7044, dtype: float64"
      ]
     },
     "execution_count": 52,
     "metadata": {},
     "output_type": "execute_result"
    }
   ],
   "source": [
    "df['TotalCharges'] = pd.to_numeric(df['TotalCharges'], errors='coerce')\n",
    "df['TotalCharges']"
   ]
  },
  {
   "cell_type": "markdown",
   "id": "dd107397-5a77-471e-8938-3e99834b29e9",
   "metadata": {},
   "source": [
    "- Convert column values ​​['TotalCharges'] to numeric values ​​and convert to NAN if there is a non-numeric value"
   ]
  },
  {
   "cell_type": "code",
   "execution_count": 53,
   "id": "7e8ee89c-eee7-4c87-b12d-ebcc880676a9",
   "metadata": {},
   "outputs": [
    {
     "data": {
      "text/plain": [
       "0        29.85\n",
       "1        56.95\n",
       "2        53.85\n",
       "3        42.30\n",
       "4        70.70\n",
       "         ...  \n",
       "7039    103.20\n",
       "7040     29.60\n",
       "7041     74.40\n",
       "7042    105.65\n",
       "7043       NaN\n",
       "Name: MonthlyCharges, Length: 7044, dtype: float64"
      ]
     },
     "execution_count": 53,
     "metadata": {},
     "output_type": "execute_result"
    }
   ],
   "source": [
    "df['MonthlyCharges'] = pd.to_numeric(df['MonthlyCharges'], errors='coerce')\n",
    "df['MonthlyCharges']"
   ]
  },
  {
   "cell_type": "code",
   "execution_count": 54,
   "id": "82ec21b4-53c1-45f8-948e-71aae020012c",
   "metadata": {},
   "outputs": [
    {
     "data": {
      "text/plain": [
       "gender\n",
       "Female    2283.190985\n",
       "Male      2283.407861\n",
       "gender            NaN\n",
       "Name: TotalCharges, dtype: float64"
      ]
     },
     "execution_count": 54,
     "metadata": {},
     "output_type": "execute_result"
    }
   ],
   "source": [
    "df.groupby('gender')['TotalCharges'].mean()"
   ]
  },
  {
   "cell_type": "code",
   "execution_count": 55,
   "id": "29a72fc5-c77a-4218-8152-603b7ad3bebe",
   "metadata": {},
   "outputs": [
    {
     "data": {
      "text/plain": [
       "MultipleLines\n",
       "MultipleLines               NaN\n",
       "No                  1349.833058\n",
       "No phone service    1500.433750\n",
       "Yes                 3527.700994\n",
       "Name: TotalCharges, dtype: float64"
      ]
     },
     "execution_count": 55,
     "metadata": {},
     "output_type": "execute_result"
    }
   ],
   "source": [
    "df.groupby('MultipleLines')['TotalCharges'].mean()"
   ]
  },
  {
   "cell_type": "code",
   "execution_count": 56,
   "id": "cf68a495-f322-4a19-9278-7e5b24a44929",
   "metadata": {},
   "outputs": [
    {
     "data": {
      "text/plain": [
       "customerID          0.000000\n",
       "gender              0.000000\n",
       "SeniorCitizen       0.000000\n",
       "Partner             0.000000\n",
       "Dependents          0.000000\n",
       "tenure              0.014196\n",
       "PhoneService        0.000000\n",
       "MultipleLines       0.000000\n",
       "InternetService     0.000000\n",
       "OnlineSecurity      0.000000\n",
       "OnlineBackup        0.000000\n",
       "DeviceProtection    0.000000\n",
       "TechSupport         0.000000\n",
       "StreamingTV         0.000000\n",
       "StreamingMovies     0.000000\n",
       "Contract            0.014196\n",
       "PaperlessBilling    0.000000\n",
       "PaymentMethod       0.000000\n",
       "MonthlyCharges      0.014196\n",
       "TotalCharges        0.170358\n",
       "Churn               0.000000\n",
       "start_date          0.000000\n",
       "end_date            0.000000\n",
       "dtype: float64"
      ]
     },
     "execution_count": 56,
     "metadata": {},
     "output_type": "execute_result"
    }
   ],
   "source": [
    "df.isna().sum() / df.shape[0] * 100"
   ]
  },
  {
   "cell_type": "markdown",
   "id": "7dc2dcdf-674f-4700-be54-d44e88518983",
   "metadata": {},
   "source": [
    "- Clean data(NAN)"
   ]
  },
  {
   "cell_type": "code",
   "execution_count": 57,
   "id": "83f957de-3b20-4b34-9cbb-3d66d9d62b3f",
   "metadata": {},
   "outputs": [],
   "source": [
    "df.dropna(inplace=True)"
   ]
  },
  {
   "cell_type": "code",
   "execution_count": 58,
   "id": "6062a1e0-d0b6-48aa-97ad-b4a4ddf30617",
   "metadata": {},
   "outputs": [
    {
     "data": {
      "text/plain": [
       "customerID          0.0\n",
       "gender              0.0\n",
       "SeniorCitizen       0.0\n",
       "Partner             0.0\n",
       "Dependents          0.0\n",
       "tenure              0.0\n",
       "PhoneService        0.0\n",
       "MultipleLines       0.0\n",
       "InternetService     0.0\n",
       "OnlineSecurity      0.0\n",
       "OnlineBackup        0.0\n",
       "DeviceProtection    0.0\n",
       "TechSupport         0.0\n",
       "StreamingTV         0.0\n",
       "StreamingMovies     0.0\n",
       "Contract            0.0\n",
       "PaperlessBilling    0.0\n",
       "PaymentMethod       0.0\n",
       "MonthlyCharges      0.0\n",
       "TotalCharges        0.0\n",
       "Churn               0.0\n",
       "start_date          0.0\n",
       "end_date            0.0\n",
       "dtype: float64"
      ]
     },
     "execution_count": 58,
     "metadata": {},
     "output_type": "execute_result"
    }
   ],
   "source": [
    "df.isna().sum() / df.shape[0] * 100"
   ]
  },
  {
   "cell_type": "code",
   "execution_count": 59,
   "id": "c15f7b5f-d3b4-4efc-96b0-cace4269664e",
   "metadata": {},
   "outputs": [
    {
     "data": {
      "text/html": [
       "<div>\n",
       "<style scoped>\n",
       "    .dataframe tbody tr th:only-of-type {\n",
       "        vertical-align: middle;\n",
       "    }\n",
       "\n",
       "    .dataframe tbody tr th {\n",
       "        vertical-align: top;\n",
       "    }\n",
       "\n",
       "    .dataframe thead th {\n",
       "        text-align: right;\n",
       "    }\n",
       "</style>\n",
       "<table border=\"1\" class=\"dataframe\">\n",
       "  <thead>\n",
       "    <tr style=\"text-align: right;\">\n",
       "      <th></th>\n",
       "      <th>customerID</th>\n",
       "      <th>gender</th>\n",
       "      <th>SeniorCitizen</th>\n",
       "      <th>Partner</th>\n",
       "      <th>Dependents</th>\n",
       "      <th>tenure</th>\n",
       "      <th>PhoneService</th>\n",
       "      <th>MultipleLines</th>\n",
       "      <th>InternetService</th>\n",
       "      <th>OnlineSecurity</th>\n",
       "      <th>...</th>\n",
       "      <th>StreamingTV</th>\n",
       "      <th>StreamingMovies</th>\n",
       "      <th>Contract</th>\n",
       "      <th>PaperlessBilling</th>\n",
       "      <th>PaymentMethod</th>\n",
       "      <th>MonthlyCharges</th>\n",
       "      <th>TotalCharges</th>\n",
       "      <th>Churn</th>\n",
       "      <th>start_date</th>\n",
       "      <th>end_date</th>\n",
       "    </tr>\n",
       "  </thead>\n",
       "  <tbody>\n",
       "    <tr>\n",
       "      <th>0</th>\n",
       "      <td>7590-VHVEG</td>\n",
       "      <td>Female</td>\n",
       "      <td>0</td>\n",
       "      <td>Yes</td>\n",
       "      <td>No</td>\n",
       "      <td>1.0</td>\n",
       "      <td>No</td>\n",
       "      <td>No phone service</td>\n",
       "      <td>DSL</td>\n",
       "      <td>No</td>\n",
       "      <td>...</td>\n",
       "      <td>No</td>\n",
       "      <td>No</td>\n",
       "      <td>0.0</td>\n",
       "      <td>Yes</td>\n",
       "      <td>Electronic check</td>\n",
       "      <td>29.85</td>\n",
       "      <td>29.85</td>\n",
       "      <td>No</td>\n",
       "      <td>2025-07-29</td>\n",
       "      <td>2025-08-29</td>\n",
       "    </tr>\n",
       "    <tr>\n",
       "      <th>1</th>\n",
       "      <td>5575-GNVDE</td>\n",
       "      <td>Male</td>\n",
       "      <td>0</td>\n",
       "      <td>No</td>\n",
       "      <td>No</td>\n",
       "      <td>34.0</td>\n",
       "      <td>Yes</td>\n",
       "      <td>No</td>\n",
       "      <td>DSL</td>\n",
       "      <td>Yes</td>\n",
       "      <td>...</td>\n",
       "      <td>No</td>\n",
       "      <td>No</td>\n",
       "      <td>1.0</td>\n",
       "      <td>No</td>\n",
       "      <td>Mailed check</td>\n",
       "      <td>56.95</td>\n",
       "      <td>1889.50</td>\n",
       "      <td>No</td>\n",
       "      <td>2022-10-29</td>\n",
       "      <td>2025-08-29</td>\n",
       "    </tr>\n",
       "    <tr>\n",
       "      <th>2</th>\n",
       "      <td>3668-QPYBK</td>\n",
       "      <td>Male</td>\n",
       "      <td>0</td>\n",
       "      <td>No</td>\n",
       "      <td>No</td>\n",
       "      <td>2.0</td>\n",
       "      <td>Yes</td>\n",
       "      <td>No</td>\n",
       "      <td>DSL</td>\n",
       "      <td>Yes</td>\n",
       "      <td>...</td>\n",
       "      <td>No</td>\n",
       "      <td>No</td>\n",
       "      <td>0.0</td>\n",
       "      <td>Yes</td>\n",
       "      <td>Mailed check</td>\n",
       "      <td>53.85</td>\n",
       "      <td>108.15</td>\n",
       "      <td>Yes</td>\n",
       "      <td>2025-06-29</td>\n",
       "      <td>2025-08-29</td>\n",
       "    </tr>\n",
       "    <tr>\n",
       "      <th>3</th>\n",
       "      <td>7795-CFOCW</td>\n",
       "      <td>Male</td>\n",
       "      <td>0</td>\n",
       "      <td>No</td>\n",
       "      <td>No</td>\n",
       "      <td>45.0</td>\n",
       "      <td>No</td>\n",
       "      <td>No phone service</td>\n",
       "      <td>DSL</td>\n",
       "      <td>Yes</td>\n",
       "      <td>...</td>\n",
       "      <td>No</td>\n",
       "      <td>No</td>\n",
       "      <td>1.0</td>\n",
       "      <td>No</td>\n",
       "      <td>Bank transfer (automatic)</td>\n",
       "      <td>42.30</td>\n",
       "      <td>1840.75</td>\n",
       "      <td>No</td>\n",
       "      <td>2021-11-29</td>\n",
       "      <td>2025-08-29</td>\n",
       "    </tr>\n",
       "    <tr>\n",
       "      <th>4</th>\n",
       "      <td>9237-HQITU</td>\n",
       "      <td>Female</td>\n",
       "      <td>0</td>\n",
       "      <td>No</td>\n",
       "      <td>No</td>\n",
       "      <td>2.0</td>\n",
       "      <td>Yes</td>\n",
       "      <td>No</td>\n",
       "      <td>Fiber optic</td>\n",
       "      <td>No</td>\n",
       "      <td>...</td>\n",
       "      <td>No</td>\n",
       "      <td>No</td>\n",
       "      <td>0.0</td>\n",
       "      <td>Yes</td>\n",
       "      <td>Electronic check</td>\n",
       "      <td>70.70</td>\n",
       "      <td>151.65</td>\n",
       "      <td>Yes</td>\n",
       "      <td>2025-06-29</td>\n",
       "      <td>2025-08-29</td>\n",
       "    </tr>\n",
       "  </tbody>\n",
       "</table>\n",
       "<p>5 rows × 23 columns</p>\n",
       "</div>"
      ],
      "text/plain": [
       "   customerID  gender SeniorCitizen Partner Dependents  tenure PhoneService  \\\n",
       "0  7590-VHVEG  Female             0     Yes         No     1.0           No   \n",
       "1  5575-GNVDE    Male             0      No         No    34.0          Yes   \n",
       "2  3668-QPYBK    Male             0      No         No     2.0          Yes   \n",
       "3  7795-CFOCW    Male             0      No         No    45.0           No   \n",
       "4  9237-HQITU  Female             0      No         No     2.0          Yes   \n",
       "\n",
       "      MultipleLines InternetService OnlineSecurity  ... StreamingTV  \\\n",
       "0  No phone service             DSL             No  ...          No   \n",
       "1                No             DSL            Yes  ...          No   \n",
       "2                No             DSL            Yes  ...          No   \n",
       "3  No phone service             DSL            Yes  ...          No   \n",
       "4                No     Fiber optic             No  ...          No   \n",
       "\n",
       "  StreamingMovies Contract PaperlessBilling              PaymentMethod  \\\n",
       "0              No      0.0              Yes           Electronic check   \n",
       "1              No      1.0               No               Mailed check   \n",
       "2              No      0.0              Yes               Mailed check   \n",
       "3              No      1.0               No  Bank transfer (automatic)   \n",
       "4              No      0.0              Yes           Electronic check   \n",
       "\n",
       "   MonthlyCharges TotalCharges Churn  start_date   end_date  \n",
       "0           29.85        29.85    No  2025-07-29 2025-08-29  \n",
       "1           56.95      1889.50    No  2022-10-29 2025-08-29  \n",
       "2           53.85       108.15   Yes  2025-06-29 2025-08-29  \n",
       "3           42.30      1840.75    No  2021-11-29 2025-08-29  \n",
       "4           70.70       151.65   Yes  2025-06-29 2025-08-29  \n",
       "\n",
       "[5 rows x 23 columns]"
      ]
     },
     "execution_count": 59,
     "metadata": {},
     "output_type": "execute_result"
    }
   ],
   "source": [
    "df.head()"
   ]
  },
  {
   "cell_type": "code",
   "execution_count": 60,
   "id": "2da1bc52-ef51-494a-ad3b-77f60287ed83",
   "metadata": {},
   "outputs": [],
   "source": [
    "# df[list(\"MonthlyCharges\")] = df[list(\"MonthlyCharges\")].fillna(0.0).astype(int)\n",
    "\n",
    "# test['MonthlyCharges'] = df['MonthlyCharges'].applymap(np.int32)\n",
    "\n",
    "df['MonthlyCharges'] = df['MonthlyCharges'].apply(np.int64)\n",
    "\n",
    "# print(df)\n"
   ]
  },
  {
   "cell_type": "code",
   "execution_count": 61,
   "id": "3488379e-049a-4d04-ad5a-00208a47dac6",
   "metadata": {},
   "outputs": [
    {
     "data": {
      "text/plain": [
       "pandas.core.series.Series"
      ]
     },
     "execution_count": 61,
     "metadata": {},
     "output_type": "execute_result"
    }
   ],
   "source": [
    "type(df['MonthlyCharges'])"
   ]
  },
  {
   "cell_type": "code",
   "execution_count": 62,
   "id": "fd39f596-7fd6-4f9c-8d31-82cb938596aa",
   "metadata": {},
   "outputs": [
    {
     "data": {
      "text/plain": [
       "(7032,)"
      ]
     },
     "execution_count": 62,
     "metadata": {},
     "output_type": "execute_result"
    }
   ],
   "source": [
    "df['MonthlyCharges'].shape"
   ]
  },
  {
   "cell_type": "code",
   "execution_count": 63,
   "id": "1f72f94c-ba8c-421b-8481-59432173ef51",
   "metadata": {},
   "outputs": [
    {
     "data": {
      "text/plain": [
       "0        29\n",
       "1        56\n",
       "2        53\n",
       "3        42\n",
       "4        70\n",
       "       ... \n",
       "7038     84\n",
       "7039    103\n",
       "7040     29\n",
       "7041     74\n",
       "7042    105\n",
       "Name: MonthlyCharges, Length: 7032, dtype: int64"
      ]
     },
     "execution_count": 63,
     "metadata": {},
     "output_type": "execute_result"
    }
   ],
   "source": [
    "df['MonthlyCharges']"
   ]
  },
  {
   "cell_type": "markdown",
   "id": "c245dc18-bf9e-453b-8690-fb204f7a4f00",
   "metadata": {},
   "source": [
    "- Average monthly purchase"
   ]
  },
  {
   "cell_type": "code",
   "execution_count": 64,
   "id": "1fed8642-ebac-4b45-884b-e1822c590425",
   "metadata": {},
   "outputs": [],
   "source": [
    "mean = sum(df['MonthlyCharges']) / len(df['MonthlyCharges'])"
   ]
  },
  {
   "cell_type": "code",
   "execution_count": 65,
   "id": "e743a09c-5e1e-489b-9a59-2b53d64d76cf",
   "metadata": {},
   "outputs": [
    {
     "data": {
      "text/plain": [
       "64.33248009101251"
      ]
     },
     "execution_count": 65,
     "metadata": {},
     "output_type": "execute_result"
    }
   ],
   "source": [
    "mean"
   ]
  },
  {
   "cell_type": "code",
   "execution_count": 66,
   "id": "8f5b4af2-d745-476c-b9f9-88b9359b4bec",
   "metadata": {},
   "outputs": [
    {
     "name": "stdout",
     "output_type": "stream",
     "text": [
      "<class 'pandas.core.frame.DataFrame'>\n",
      "Index: 7032 entries, 0 to 7042\n",
      "Data columns (total 23 columns):\n",
      " #   Column            Non-Null Count  Dtype         \n",
      "---  ------            --------------  -----         \n",
      " 0   customerID        7032 non-null   object        \n",
      " 1   gender            7032 non-null   object        \n",
      " 2   SeniorCitizen     7032 non-null   object        \n",
      " 3   Partner           7032 non-null   object        \n",
      " 4   Dependents        7032 non-null   object        \n",
      " 5   tenure            7032 non-null   float64       \n",
      " 6   PhoneService      7032 non-null   object        \n",
      " 7   MultipleLines     7032 non-null   object        \n",
      " 8   InternetService   7032 non-null   object        \n",
      " 9   OnlineSecurity    7032 non-null   object        \n",
      " 10  OnlineBackup      7032 non-null   object        \n",
      " 11  DeviceProtection  7032 non-null   object        \n",
      " 12  TechSupport       7032 non-null   object        \n",
      " 13  StreamingTV       7032 non-null   object        \n",
      " 14  StreamingMovies   7032 non-null   object        \n",
      " 15  Contract          7032 non-null   float64       \n",
      " 16  PaperlessBilling  7032 non-null   object        \n",
      " 17  PaymentMethod     7032 non-null   object        \n",
      " 18  MonthlyCharges    7032 non-null   int64         \n",
      " 19  TotalCharges      7032 non-null   float64       \n",
      " 20  Churn             7032 non-null   object        \n",
      " 21  start_date        7032 non-null   datetime64[ns]\n",
      " 22  end_date          7032 non-null   datetime64[ns]\n",
      "dtypes: datetime64[ns](2), float64(3), int64(1), object(17)\n",
      "memory usage: 1.3+ MB\n"
     ]
    }
   ],
   "source": [
    "df.info()"
   ]
  },
  {
   "cell_type": "code",
   "execution_count": 67,
   "id": "0dd4b1d5-b631-4a28-9325-0ef27a82d0e4",
   "metadata": {},
   "outputs": [],
   "source": [
    "df['Churn'] = (df['Churn']!='No').map({True:1,\n",
    "                                                       False:0})"
   ]
  },
  {
   "cell_type": "code",
   "execution_count": 68,
   "id": "ca6ba15d-93df-496d-ae74-9fdbfe3686b7",
   "metadata": {},
   "outputs": [
    {
     "data": {
      "text/plain": [
       "0       0.0\n",
       "1       1.0\n",
       "2       0.0\n",
       "3       1.0\n",
       "4       0.0\n",
       "       ... \n",
       "7038    1.0\n",
       "7039    1.0\n",
       "7040    0.0\n",
       "7041    0.0\n",
       "7042    2.0\n",
       "Name: Contract, Length: 7032, dtype: float64"
      ]
     },
     "execution_count": 68,
     "metadata": {},
     "output_type": "execute_result"
    }
   ],
   "source": [
    "convert_to_0_1 = df['Contract']\n",
    "convert_to_0_1"
   ]
  },
  {
   "cell_type": "markdown",
   "id": "cc703a71-a60a-4912-8d58-b9e81cab3047",
   "metadata": {},
   "source": [
    "- stay = 0\n",
    "- left = 1"
   ]
  },
  {
   "cell_type": "markdown",
   "id": "142fe971-00cf-474f-81c7-ac4fa54e78ae",
   "metadata": {},
   "source": [
    "* Between those who stayed \"0\" and those who left \"1\", it shows those who were with the company for 12 months, and compares it with monthly, one-year and two-year contracts, \n",
    "which shows those who had a 1-month contract but stayed with the company for 12 months. While the contract was 1 month"
   ]
  },
  {
   "cell_type": "code",
   "execution_count": 69,
   "id": "684815b0-b342-4cdf-931c-40d589beea87",
   "metadata": {},
   "outputs": [
    {
     "data": {
      "text/plain": [
       "<Axes: xlabel='Churn', ylabel='count'>"
      ]
     },
     "execution_count": 69,
     "metadata": {},
     "output_type": "execute_result"
    },
    {
     "data": {
      "image/png": "[encoded data removed]",
      "text/plain": [
       "<Figure size 640x480 with 1 Axes>"
      ]
     },
     "metadata": {},
     "output_type": "display_data"
    }
   ],
   "source": [
    "sns.countplot(x='Churn', data=df[df['Contract'] == 2])     "
   ]
  },
  {
   "cell_type": "markdown",
   "id": "2ec3e47b-9255-41af-8741-e78990033328",
   "metadata": {},
   "source": [
    "- The average number of months the customer stays with the organization."
   ]
  },
  {
   "cell_type": "code",
   "execution_count": 70,
   "id": "f80d3d75-5c52-4123-bf65-b3bbb1f1d4b8",
   "metadata": {},
   "outputs": [],
   "source": [
    "mean = sum(df['tenure']) / len(df['tenure'])"
   ]
  },
  {
   "cell_type": "code",
   "execution_count": 71,
   "id": "4a7127d3-23ca-4b19-a4f6-bd4038ac4905",
   "metadata": {},
   "outputs": [
    {
     "data": {
      "text/plain": [
       "32.421786120591584"
      ]
     },
     "execution_count": 71,
     "metadata": {},
     "output_type": "execute_result"
    }
   ],
   "source": [
    "mean"
   ]
  },
  {
   "cell_type": "code",
   "execution_count": 72,
   "id": "236f6ad9-c398-48a8-9fdc-a9e3ab98cf62",
   "metadata": {},
   "outputs": [
    {
     "data": {
      "text/plain": [
       "Churn\n",
       "0    37.650010\n",
       "1    17.979133\n",
       "Name: tenure, dtype: float64"
      ]
     },
     "execution_count": 72,
     "metadata": {},
     "output_type": "execute_result"
    }
   ],
   "source": [
    "df.groupby('Churn')['tenure'].mean()"
   ]
  },
  {
   "cell_type": "markdown",
   "id": "8ec7f19c-248b-491b-81d7-9401ae0ccb3a",
   "metadata": {},
   "source": [
    "* Customers that stay and leave, but we made a bet that it shows customers who have been with the organization for 32 months."
   ]
  },
  {
   "cell_type": "code",
   "execution_count": 73,
   "id": "7f201d8c-c4bc-403b-ba09-930701187ed6",
   "metadata": {},
   "outputs": [
    {
     "data": {
      "text/plain": [
       "<Axes: xlabel='Churn', ylabel='count'>"
      ]
     },
     "execution_count": 73,
     "metadata": {},
     "output_type": "execute_result"
    },
    {
     "data": {
      "image/png": "[encoded data removed]",
      "text/plain": [
       "<Figure size 640x480 with 1 Axes>"
      ]
     },
     "metadata": {},
     "output_type": "display_data"
    }
   ],
   "source": [
    "sns.countplot(x='Churn', data=df[df['tenure'] == 32])"
   ]
  },
  {
   "cell_type": "markdown",
   "id": "0a76f354-bb8b-41e6-b2dd-4627e414813c",
   "metadata": {},
   "source": [
    "- Shows and compares customers who stay and leave on a 12-month contract with customers who have 1-month, 1-year, and 2-year contracts."
   ]
  },
  {
   "cell_type": "code",
   "execution_count": 74,
   "id": "f269b938-1e98-40c2-89db-58df64145d11",
   "metadata": {},
   "outputs": [
    {
     "data": {
      "text/plain": [
       "<Axes: xlabel='Churn', ylabel='count'>"
      ]
     },
     "execution_count": 74,
     "metadata": {},
     "output_type": "execute_result"
    },
    {
     "data": {
      "image/png": "[encoded data removed]",
      "text/plain": [
       "<Figure size 640x480 with 1 Axes>"
      ]
     },
     "metadata": {},
     "output_type": "display_data"
    }
   ],
   "source": [
    "sns.countplot(x = 'Churn',\n",
    "              data = df[df['tenure'] == 12],\n",
    "              hue = 'Contract')"
   ]
  },
  {
   "cell_type": "markdown",
   "id": "78046e2d-a0e4-44ac-a6fe-30abd6be1406",
   "metadata": {},
   "source": [
    "- Customers who have a 1-month contract report how many churn and how many loyal customers they have (staying in the organization)."
   ]
  },
  {
   "cell_type": "code",
   "execution_count": 75,
   "id": "0dd5b794-a657-4cb4-8494-7483bea2006d",
   "metadata": {},
   "outputs": [
    {
     "data": {
      "text/plain": [
       "<Axes: xlabel='Churn', ylabel='count'>"
      ]
     },
     "execution_count": 75,
     "metadata": {},
     "output_type": "execute_result"
    },
    {
     "data": {
      "image/png": "[encoded data removed]",
      "text/plain": [
       "<Figure size 640x480 with 1 Axes>"
      ]
     },
     "metadata": {},
     "output_type": "display_data"
    }
   ],
   "source": [
    "sns.countplot(x='Churn',\n",
    "              data=df[df['Contract'] == 0],\n",
    "              )"
   ]
  },
  {
   "cell_type": "markdown",
   "id": "ee6dfb0d-1436-47f9-a5cb-c0dfa752f193",
   "metadata": {},
   "source": [
    "- Check which contract is more popular to percentage.\n",
    "- Analysis of the distribution of contracts among customers to percentage."
   ]
  },
  {
   "cell_type": "code",
   "execution_count": 76,
   "id": "9ae6868c-2437-4929-8027-49859638d3ab",
   "metadata": {},
   "outputs": [],
   "source": [
    "percentage_Churn=(df['Churn'].value_counts()/df['Churn'].count())*100"
   ]
  },
  {
   "cell_type": "code",
   "execution_count": 77,
   "id": "2172ed90-ee58-4647-900f-ae4dc65d55ef",
   "metadata": {},
   "outputs": [],
   "source": [
    "percentage_Contract=(df['Contract'].value_counts()/df['Contract'].count())*100"
   ]
  },
  {
   "cell_type": "code",
   "execution_count": 78,
   "id": "30e835ba-3251-48d7-bd41-fed52ed03694",
   "metadata": {},
   "outputs": [
    {
     "name": "stdout",
     "output_type": "stream",
     "text": [
      "Number of loyal and unloyal customers: Churn\n",
      "0    73.421502\n",
      "1    26.578498\n",
      "Name: count, dtype: float64\n",
      "Shows which contract is more popular: Contract\n",
      "0.0    55.105233\n",
      "2.0    23.961889\n",
      "1.0    20.932878\n",
      "Name: count, dtype: float64\n"
     ]
    }
   ],
   "source": [
    "print(f'Number of loyal and unloyal customers: {percentage_Churn}')\n",
    "print(f'Shows which contract is more popular: {percentage_Contract}')"
   ]
  },
  {
   "cell_type": "code",
   "execution_count": 79,
   "id": "d94164ab-ef50-4bdd-bcae-2abebb416814",
   "metadata": {},
   "outputs": [
    {
     "data": {
      "text/plain": [
       "<Axes: xlabel='Contract', ylabel='count'>"
      ]
     },
     "execution_count": 79,
     "metadata": {},
     "output_type": "execute_result"
    },
    {
     "data": {
      "image/png": "[encoded data removed]",
      "text/plain": [
       "<Figure size 640x480 with 1 Axes>"
      ]
     },
     "metadata": {},
     "output_type": "display_data"
    }
   ],
   "source": [
    "sns.countplot(x='Contract',\n",
    "              data=df[df['Churn'] == 1],\n",
    "             )"
   ]
  },
  {
   "cell_type": "markdown",
   "id": "e74f59f8-c916-4d82-a37a-a8ff1d3e1d50",
   "metadata": {},
   "source": [
    "#### Percentage of decline between one-month and long-term contracts :"
   ]
  },
  {
   "cell_type": "code",
   "execution_count": 80,
   "id": "c68d4451-17df-4545-bf27-7077102652e1",
   "metadata": {},
   "outputs": [],
   "source": [
    "result = df.groupby('Contract').agg(\n",
    "    total_customers=('Contract', 'count'),\n",
    "    churned_customers=('Churn', lambda x: (x == 1).sum())\n",
    ")\n",
    "\n",
    "result['Churn_rate_percent'] = (result['churned_customers'] / result['total_customers'] * 100).round(2)"
   ]
  },
  {
   "cell_type": "code",
   "execution_count": 81,
   "id": "0346debf-4375-4305-8859-cd75384d95ae",
   "metadata": {},
   "outputs": [
    {
     "name": "stdout",
     "output_type": "stream",
     "text": [
      "[0 1]\n"
     ]
    }
   ],
   "source": [
    "print(df['Churn'].unique())"
   ]
  },
  {
   "cell_type": "code",
   "execution_count": 82,
   "id": "e96b76e5-f47b-45f1-b4c0-ce3fe758f0a2",
   "metadata": {},
   "outputs": [
    {
     "name": "stdout",
     "output_type": "stream",
     "text": [
      "Churn\n",
      "0    5163\n",
      "1    1869\n",
      "Name: count, dtype: int64\n"
     ]
    }
   ],
   "source": [
    "print(df['Churn'].value_counts(dropna=False))"
   ]
  },
  {
   "cell_type": "code",
   "execution_count": 83,
   "id": "a3a63bb5-0c6a-4628-9fab-0573d00b713d",
   "metadata": {},
   "outputs": [
    {
     "data": {
      "text/plain": [
       "Contract\n",
       "0.0    42.71\n",
       "1.0    11.28\n",
       "2.0     2.85\n",
       "Name: Churn_rate_percent, dtype: float64"
      ]
     },
     "execution_count": 83,
     "metadata": {},
     "output_type": "execute_result"
    }
   ],
   "source": [
    "result['Churn_rate_percent']"
   ]
  },
  {
   "cell_type": "markdown",
   "id": "43c2a80b-e47f-44cb-8d49-400c9be30cd4",
   "metadata": {},
   "source": [
    "- This table shows that monthly contracts with a \"0\" rating have the highest churn and the highest retention in the organization, which could indicate customer dissatisfaction.\n",
    "- One-year contracts are half the customer acquisition rate of monthly contracts, but have a low churn rate of 11 percent, indicating that there are very few dissatisfied customers in this contract.\n",
    "- Two-year contracts show that their customer retention is similar to one-year contracts, and they have a very low churn rate among the three types of contracts, and the majority of customers are loyal, and ultimately loyal customers are formed by one-year and two-year contracts."
   ]
  },
  {
   "cell_type": "code",
   "execution_count": 84,
   "id": "4e346d1c-b81a-48fd-8610-2fe47b7aa27f",
   "metadata": {},
   "outputs": [
    {
     "data": {
      "text/html": [
       "<div>\n",
       "<style scoped>\n",
       "    .dataframe tbody tr th:only-of-type {\n",
       "        vertical-align: middle;\n",
       "    }\n",
       "\n",
       "    .dataframe tbody tr th {\n",
       "        vertical-align: top;\n",
       "    }\n",
       "\n",
       "    .dataframe thead th {\n",
       "        text-align: right;\n",
       "    }\n",
       "</style>\n",
       "<table border=\"1\" class=\"dataframe\">\n",
       "  <thead>\n",
       "    <tr style=\"text-align: right;\">\n",
       "      <th></th>\n",
       "      <th>total_customers</th>\n",
       "      <th>churned_customers</th>\n",
       "      <th>Churn_rate_percent</th>\n",
       "    </tr>\n",
       "    <tr>\n",
       "      <th>Contract</th>\n",
       "      <th></th>\n",
       "      <th></th>\n",
       "      <th></th>\n",
       "    </tr>\n",
       "  </thead>\n",
       "  <tbody>\n",
       "    <tr>\n",
       "      <th>0.0</th>\n",
       "      <td>3875</td>\n",
       "      <td>1655</td>\n",
       "      <td>42.71</td>\n",
       "    </tr>\n",
       "    <tr>\n",
       "      <th>1.0</th>\n",
       "      <td>1472</td>\n",
       "      <td>166</td>\n",
       "      <td>11.28</td>\n",
       "    </tr>\n",
       "    <tr>\n",
       "      <th>2.0</th>\n",
       "      <td>1685</td>\n",
       "      <td>48</td>\n",
       "      <td>2.85</td>\n",
       "    </tr>\n",
       "  </tbody>\n",
       "</table>\n",
       "</div>"
      ],
      "text/plain": [
       "          total_customers  churned_customers  Churn_rate_percent\n",
       "Contract                                                        \n",
       "0.0                  3875               1655               42.71\n",
       "1.0                  1472                166               11.28\n",
       "2.0                  1685                 48                2.85"
      ]
     },
     "execution_count": 84,
     "metadata": {},
     "output_type": "execute_result"
    }
   ],
   "source": [
    "result"
   ]
  },
  {
   "cell_type": "code",
   "execution_count": 85,
   "id": "6775e84e-83cb-418e-b572-6df801ba9088",
   "metadata": {},
   "outputs": [
    {
     "data": {
      "text/html": [
       "<div>\n",
       "<style scoped>\n",
       "    .dataframe tbody tr th:only-of-type {\n",
       "        vertical-align: middle;\n",
       "    }\n",
       "\n",
       "    .dataframe tbody tr th {\n",
       "        vertical-align: top;\n",
       "    }\n",
       "\n",
       "    .dataframe thead th {\n",
       "        text-align: right;\n",
       "    }\n",
       "</style>\n",
       "<table border=\"1\" class=\"dataframe\">\n",
       "  <thead>\n",
       "    <tr style=\"text-align: right;\">\n",
       "      <th></th>\n",
       "      <th>count</th>\n",
       "      <th>mean</th>\n",
       "      <th>std</th>\n",
       "      <th>min</th>\n",
       "      <th>25%</th>\n",
       "      <th>50%</th>\n",
       "      <th>75%</th>\n",
       "      <th>max</th>\n",
       "    </tr>\n",
       "    <tr>\n",
       "      <th>Churn</th>\n",
       "      <th></th>\n",
       "      <th></th>\n",
       "      <th></th>\n",
       "      <th></th>\n",
       "      <th></th>\n",
       "      <th></th>\n",
       "      <th></th>\n",
       "      <th></th>\n",
       "    </tr>\n",
       "  </thead>\n",
       "  <tbody>\n",
       "    <tr>\n",
       "      <th>0</th>\n",
       "      <td>5163.0</td>\n",
       "      <td>0.887081</td>\n",
       "      <td>0.856994</td>\n",
       "      <td>0.0</td>\n",
       "      <td>0.0</td>\n",
       "      <td>1.0</td>\n",
       "      <td>2.0</td>\n",
       "      <td>2.0</td>\n",
       "    </tr>\n",
       "    <tr>\n",
       "      <th>1</th>\n",
       "      <td>1869.0</td>\n",
       "      <td>0.140182</td>\n",
       "      <td>0.414714</td>\n",
       "      <td>0.0</td>\n",
       "      <td>0.0</td>\n",
       "      <td>0.0</td>\n",
       "      <td>0.0</td>\n",
       "      <td>2.0</td>\n",
       "    </tr>\n",
       "  </tbody>\n",
       "</table>\n",
       "</div>"
      ],
      "text/plain": [
       "        count      mean       std  min  25%  50%  75%  max\n",
       "Churn                                                     \n",
       "0      5163.0  0.887081  0.856994  0.0  0.0  1.0  2.0  2.0\n",
       "1      1869.0  0.140182  0.414714  0.0  0.0  0.0  0.0  2.0"
      ]
     },
     "execution_count": 85,
     "metadata": {},
     "output_type": "execute_result"
    }
   ],
   "source": [
    "df.groupby('Churn')['Contract'].describe()"
   ]
  },
  {
   "cell_type": "code",
   "execution_count": 86,
   "id": "9c514ddd-981a-4e14-b2ea-0b32bbcf174c",
   "metadata": {},
   "outputs": [
    {
     "data": {
      "text/html": [
       "<div>\n",
       "<style scoped>\n",
       "    .dataframe tbody tr th:only-of-type {\n",
       "        vertical-align: middle;\n",
       "    }\n",
       "\n",
       "    .dataframe tbody tr th {\n",
       "        vertical-align: top;\n",
       "    }\n",
       "\n",
       "    .dataframe thead th {\n",
       "        text-align: right;\n",
       "    }\n",
       "</style>\n",
       "<table border=\"1\" class=\"dataframe\">\n",
       "  <thead>\n",
       "    <tr style=\"text-align: right;\">\n",
       "      <th></th>\n",
       "      <th>customerID</th>\n",
       "      <th>gender</th>\n",
       "      <th>SeniorCitizen</th>\n",
       "      <th>Partner</th>\n",
       "      <th>Dependents</th>\n",
       "      <th>tenure</th>\n",
       "      <th>PhoneService</th>\n",
       "      <th>MultipleLines</th>\n",
       "      <th>InternetService</th>\n",
       "      <th>OnlineSecurity</th>\n",
       "      <th>...</th>\n",
       "      <th>StreamingTV</th>\n",
       "      <th>StreamingMovies</th>\n",
       "      <th>Contract</th>\n",
       "      <th>PaperlessBilling</th>\n",
       "      <th>PaymentMethod</th>\n",
       "      <th>MonthlyCharges</th>\n",
       "      <th>TotalCharges</th>\n",
       "      <th>Churn</th>\n",
       "      <th>start_date</th>\n",
       "      <th>end_date</th>\n",
       "    </tr>\n",
       "  </thead>\n",
       "  <tbody>\n",
       "    <tr>\n",
       "      <th>0</th>\n",
       "      <td>7590-VHVEG</td>\n",
       "      <td>Female</td>\n",
       "      <td>0</td>\n",
       "      <td>Yes</td>\n",
       "      <td>No</td>\n",
       "      <td>1.0</td>\n",
       "      <td>No</td>\n",
       "      <td>No phone service</td>\n",
       "      <td>DSL</td>\n",
       "      <td>No</td>\n",
       "      <td>...</td>\n",
       "      <td>No</td>\n",
       "      <td>No</td>\n",
       "      <td>0.0</td>\n",
       "      <td>Yes</td>\n",
       "      <td>Electronic check</td>\n",
       "      <td>29</td>\n",
       "      <td>29.85</td>\n",
       "      <td>0</td>\n",
       "      <td>2025-07-29</td>\n",
       "      <td>2025-08-29</td>\n",
       "    </tr>\n",
       "    <tr>\n",
       "      <th>1</th>\n",
       "      <td>5575-GNVDE</td>\n",
       "      <td>Male</td>\n",
       "      <td>0</td>\n",
       "      <td>No</td>\n",
       "      <td>No</td>\n",
       "      <td>34.0</td>\n",
       "      <td>Yes</td>\n",
       "      <td>No</td>\n",
       "      <td>DSL</td>\n",
       "      <td>Yes</td>\n",
       "      <td>...</td>\n",
       "      <td>No</td>\n",
       "      <td>No</td>\n",
       "      <td>1.0</td>\n",
       "      <td>No</td>\n",
       "      <td>Mailed check</td>\n",
       "      <td>56</td>\n",
       "      <td>1889.50</td>\n",
       "      <td>0</td>\n",
       "      <td>2022-10-29</td>\n",
       "      <td>2025-08-29</td>\n",
       "    </tr>\n",
       "    <tr>\n",
       "      <th>2</th>\n",
       "      <td>3668-QPYBK</td>\n",
       "      <td>Male</td>\n",
       "      <td>0</td>\n",
       "      <td>No</td>\n",
       "      <td>No</td>\n",
       "      <td>2.0</td>\n",
       "      <td>Yes</td>\n",
       "      <td>No</td>\n",
       "      <td>DSL</td>\n",
       "      <td>Yes</td>\n",
       "      <td>...</td>\n",
       "      <td>No</td>\n",
       "      <td>No</td>\n",
       "      <td>0.0</td>\n",
       "      <td>Yes</td>\n",
       "      <td>Mailed check</td>\n",
       "      <td>53</td>\n",
       "      <td>108.15</td>\n",
       "      <td>1</td>\n",
       "      <td>2025-06-29</td>\n",
       "      <td>2025-08-29</td>\n",
       "    </tr>\n",
       "    <tr>\n",
       "      <th>3</th>\n",
       "      <td>7795-CFOCW</td>\n",
       "      <td>Male</td>\n",
       "      <td>0</td>\n",
       "      <td>No</td>\n",
       "      <td>No</td>\n",
       "      <td>45.0</td>\n",
       "      <td>No</td>\n",
       "      <td>No phone service</td>\n",
       "      <td>DSL</td>\n",
       "      <td>Yes</td>\n",
       "      <td>...</td>\n",
       "      <td>No</td>\n",
       "      <td>No</td>\n",
       "      <td>1.0</td>\n",
       "      <td>No</td>\n",
       "      <td>Bank transfer (automatic)</td>\n",
       "      <td>42</td>\n",
       "      <td>1840.75</td>\n",
       "      <td>0</td>\n",
       "      <td>2021-11-29</td>\n",
       "      <td>2025-08-29</td>\n",
       "    </tr>\n",
       "    <tr>\n",
       "      <th>4</th>\n",
       "      <td>9237-HQITU</td>\n",
       "      <td>Female</td>\n",
       "      <td>0</td>\n",
       "      <td>No</td>\n",
       "      <td>No</td>\n",
       "      <td>2.0</td>\n",
       "      <td>Yes</td>\n",
       "      <td>No</td>\n",
       "      <td>Fiber optic</td>\n",
       "      <td>No</td>\n",
       "      <td>...</td>\n",
       "      <td>No</td>\n",
       "      <td>No</td>\n",
       "      <td>0.0</td>\n",
       "      <td>Yes</td>\n",
       "      <td>Electronic check</td>\n",
       "      <td>70</td>\n",
       "      <td>151.65</td>\n",
       "      <td>1</td>\n",
       "      <td>2025-06-29</td>\n",
       "      <td>2025-08-29</td>\n",
       "    </tr>\n",
       "  </tbody>\n",
       "</table>\n",
       "<p>5 rows × 23 columns</p>\n",
       "</div>"
      ],
      "text/plain": [
       "   customerID  gender SeniorCitizen Partner Dependents  tenure PhoneService  \\\n",
       "0  7590-VHVEG  Female             0     Yes         No     1.0           No   \n",
       "1  5575-GNVDE    Male             0      No         No    34.0          Yes   \n",
       "2  3668-QPYBK    Male             0      No         No     2.0          Yes   \n",
       "3  7795-CFOCW    Male             0      No         No    45.0           No   \n",
       "4  9237-HQITU  Female             0      No         No     2.0          Yes   \n",
       "\n",
       "      MultipleLines InternetService OnlineSecurity  ... StreamingTV  \\\n",
       "0  No phone service             DSL             No  ...          No   \n",
       "1                No             DSL            Yes  ...          No   \n",
       "2                No             DSL            Yes  ...          No   \n",
       "3  No phone service             DSL            Yes  ...          No   \n",
       "4                No     Fiber optic             No  ...          No   \n",
       "\n",
       "  StreamingMovies Contract PaperlessBilling              PaymentMethod  \\\n",
       "0              No      0.0              Yes           Electronic check   \n",
       "1              No      1.0               No               Mailed check   \n",
       "2              No      0.0              Yes               Mailed check   \n",
       "3              No      1.0               No  Bank transfer (automatic)   \n",
       "4              No      0.0              Yes           Electronic check   \n",
       "\n",
       "   MonthlyCharges TotalCharges Churn  start_date   end_date  \n",
       "0              29        29.85     0  2025-07-29 2025-08-29  \n",
       "1              56      1889.50     0  2022-10-29 2025-08-29  \n",
       "2              53       108.15     1  2025-06-29 2025-08-29  \n",
       "3              42      1840.75     0  2021-11-29 2025-08-29  \n",
       "4              70       151.65     1  2025-06-29 2025-08-29  \n",
       "\n",
       "[5 rows x 23 columns]"
      ]
     },
     "execution_count": 86,
     "metadata": {},
     "output_type": "execute_result"
    }
   ],
   "source": [
    "df.head()"
   ]
  },
  {
   "cell_type": "code",
   "execution_count": 87,
   "id": "89aefcd0-e9f5-4a9d-883a-969742059614",
   "metadata": {},
   "outputs": [
    {
     "data": {
      "image/png": "[encoded data removed]",
      "text/plain": [
       "<Figure size 640x480 with 1 Axes>"
      ]
     },
     "metadata": {},
     "output_type": "display_data"
    }
   ],
   "source": [
    "df['date'] = pd.to_datetime(df['start_date'])\n",
    "df['month'] = df['date'].dt.to_period('M') # extract month\n",
    "\n",
    "monthly_sales = df.groupby('month')['MonthlyCharges'].sum()\n",
    "\n",
    "plt.plot(monthly_sales.index.astype(str), monthly_sales.values, marker='o')\n",
    "plt.xticks(rotation=75)\n",
    "plt.xlabel('month')\n",
    "plt.ylabel('Purchase amount')\n",
    "plt.title('Monthly purchase process')\n",
    "plt.grid(True)\n",
    "plt.show()"
   ]
  },
  {
   "cell_type": "code",
   "execution_count": 88,
   "id": "760aa66e-9945-47f1-9588-024709fcfad4",
   "metadata": {},
   "outputs": [],
   "source": [
    "new_patient = pd.DataFrame([500, 800, 1200, 2000, 3500, 4200, 10000, 15000])"
   ]
  },
  {
   "cell_type": "code",
   "execution_count": 89,
   "id": "2ba65094-e0a0-4fe1-abb2-478ab5289a6e",
   "metadata": {},
   "outputs": [],
   "source": [
    "q1 = df['MonthlyCharges'].quantile(0.25)\n",
    "q2 = df['MonthlyCharges'].quantile(0.50)\n",
    "q3 = df['MonthlyCharges'].quantile(0.75)"
   ]
  },
  {
   "cell_type": "code",
   "execution_count": 90,
   "id": "c73066c4-e573-41b2-8519-2ed2a8d6706e",
   "metadata": {},
   "outputs": [
    {
     "data": {
      "text/plain": [
       "np.float64(35.0)"
      ]
     },
     "execution_count": 90,
     "metadata": {},
     "output_type": "execute_result"
    }
   ],
   "source": [
    "q1"
   ]
  },
  {
   "cell_type": "code",
   "execution_count": 91,
   "id": "efb79564-cc5d-419a-9e8b-5ebefeb690cc",
   "metadata": {},
   "outputs": [
    {
     "data": {
      "text/plain": [
       "np.float64(70.0)"
      ]
     },
     "execution_count": 91,
     "metadata": {},
     "output_type": "execute_result"
    }
   ],
   "source": [
    "q2"
   ]
  },
  {
   "cell_type": "code",
   "execution_count": 92,
   "id": "168b8258-59cc-4f06-b537-e48531d9b498",
   "metadata": {},
   "outputs": [
    {
     "data": {
      "text/plain": [
       "np.float64(89.0)"
      ]
     },
     "execution_count": 92,
     "metadata": {},
     "output_type": "execute_result"
    }
   ],
   "source": [
    "q3"
   ]
  },
  {
   "cell_type": "code",
   "execution_count": 93,
   "id": "a0319a6b-183c-4500-9777-60e710c7622e",
   "metadata": {},
   "outputs": [
    {
     "data": {
      "text/plain": [
       "118"
      ]
     },
     "execution_count": 93,
     "metadata": {},
     "output_type": "execute_result"
    }
   ],
   "source": [
    "df['MonthlyCharges'].max()"
   ]
  },
  {
   "cell_type": "code",
   "execution_count": 94,
   "id": "866ed1a6-e8f0-4470-abfd-10ea6bd23a48",
   "metadata": {},
   "outputs": [
    {
     "data": {
      "text/html": [
       "<div>\n",
       "<style scoped>\n",
       "    .dataframe tbody tr th:only-of-type {\n",
       "        vertical-align: middle;\n",
       "    }\n",
       "\n",
       "    .dataframe tbody tr th {\n",
       "        vertical-align: top;\n",
       "    }\n",
       "\n",
       "    .dataframe thead th {\n",
       "        text-align: right;\n",
       "    }\n",
       "</style>\n",
       "<table border=\"1\" class=\"dataframe\">\n",
       "  <thead>\n",
       "    <tr style=\"text-align: right;\">\n",
       "      <th></th>\n",
       "      <th>customerID</th>\n",
       "      <th>gender</th>\n",
       "      <th>SeniorCitizen</th>\n",
       "      <th>Partner</th>\n",
       "      <th>Dependents</th>\n",
       "      <th>tenure</th>\n",
       "      <th>PhoneService</th>\n",
       "      <th>MultipleLines</th>\n",
       "      <th>InternetService</th>\n",
       "      <th>OnlineSecurity</th>\n",
       "      <th>...</th>\n",
       "      <th>Contract</th>\n",
       "      <th>PaperlessBilling</th>\n",
       "      <th>PaymentMethod</th>\n",
       "      <th>MonthlyCharges</th>\n",
       "      <th>TotalCharges</th>\n",
       "      <th>Churn</th>\n",
       "      <th>start_date</th>\n",
       "      <th>end_date</th>\n",
       "      <th>date</th>\n",
       "      <th>month</th>\n",
       "    </tr>\n",
       "  </thead>\n",
       "  <tbody>\n",
       "    <tr>\n",
       "      <th>0</th>\n",
       "      <td>7590-VHVEG</td>\n",
       "      <td>Female</td>\n",
       "      <td>0</td>\n",
       "      <td>Yes</td>\n",
       "      <td>No</td>\n",
       "      <td>1.0</td>\n",
       "      <td>No</td>\n",
       "      <td>No phone service</td>\n",
       "      <td>DSL</td>\n",
       "      <td>No</td>\n",
       "      <td>...</td>\n",
       "      <td>0.0</td>\n",
       "      <td>Yes</td>\n",
       "      <td>Electronic check</td>\n",
       "      <td>29</td>\n",
       "      <td>29.85</td>\n",
       "      <td>0</td>\n",
       "      <td>2025-07-29</td>\n",
       "      <td>2025-08-29</td>\n",
       "      <td>2025-07-29</td>\n",
       "      <td>2025-07</td>\n",
       "    </tr>\n",
       "    <tr>\n",
       "      <th>1</th>\n",
       "      <td>5575-GNVDE</td>\n",
       "      <td>Male</td>\n",
       "      <td>0</td>\n",
       "      <td>No</td>\n",
       "      <td>No</td>\n",
       "      <td>34.0</td>\n",
       "      <td>Yes</td>\n",
       "      <td>No</td>\n",
       "      <td>DSL</td>\n",
       "      <td>Yes</td>\n",
       "      <td>...</td>\n",
       "      <td>1.0</td>\n",
       "      <td>No</td>\n",
       "      <td>Mailed check</td>\n",
       "      <td>56</td>\n",
       "      <td>1889.50</td>\n",
       "      <td>0</td>\n",
       "      <td>2022-10-29</td>\n",
       "      <td>2025-08-29</td>\n",
       "      <td>2022-10-29</td>\n",
       "      <td>2022-10</td>\n",
       "    </tr>\n",
       "    <tr>\n",
       "      <th>2</th>\n",
       "      <td>3668-QPYBK</td>\n",
       "      <td>Male</td>\n",
       "      <td>0</td>\n",
       "      <td>No</td>\n",
       "      <td>No</td>\n",
       "      <td>2.0</td>\n",
       "      <td>Yes</td>\n",
       "      <td>No</td>\n",
       "      <td>DSL</td>\n",
       "      <td>Yes</td>\n",
       "      <td>...</td>\n",
       "      <td>0.0</td>\n",
       "      <td>Yes</td>\n",
       "      <td>Mailed check</td>\n",
       "      <td>53</td>\n",
       "      <td>108.15</td>\n",
       "      <td>1</td>\n",
       "      <td>2025-06-29</td>\n",
       "      <td>2025-08-29</td>\n",
       "      <td>2025-06-29</td>\n",
       "      <td>2025-06</td>\n",
       "    </tr>\n",
       "    <tr>\n",
       "      <th>3</th>\n",
       "      <td>7795-CFOCW</td>\n",
       "      <td>Male</td>\n",
       "      <td>0</td>\n",
       "      <td>No</td>\n",
       "      <td>No</td>\n",
       "      <td>45.0</td>\n",
       "      <td>No</td>\n",
       "      <td>No phone service</td>\n",
       "      <td>DSL</td>\n",
       "      <td>Yes</td>\n",
       "      <td>...</td>\n",
       "      <td>1.0</td>\n",
       "      <td>No</td>\n",
       "      <td>Bank transfer (automatic)</td>\n",
       "      <td>42</td>\n",
       "      <td>1840.75</td>\n",
       "      <td>0</td>\n",
       "      <td>2021-11-29</td>\n",
       "      <td>2025-08-29</td>\n",
       "      <td>2021-11-29</td>\n",
       "      <td>2021-11</td>\n",
       "    </tr>\n",
       "    <tr>\n",
       "      <th>4</th>\n",
       "      <td>9237-HQITU</td>\n",
       "      <td>Female</td>\n",
       "      <td>0</td>\n",
       "      <td>No</td>\n",
       "      <td>No</td>\n",
       "      <td>2.0</td>\n",
       "      <td>Yes</td>\n",
       "      <td>No</td>\n",
       "      <td>Fiber optic</td>\n",
       "      <td>No</td>\n",
       "      <td>...</td>\n",
       "      <td>0.0</td>\n",
       "      <td>Yes</td>\n",
       "      <td>Electronic check</td>\n",
       "      <td>70</td>\n",
       "      <td>151.65</td>\n",
       "      <td>1</td>\n",
       "      <td>2025-06-29</td>\n",
       "      <td>2025-08-29</td>\n",
       "      <td>2025-06-29</td>\n",
       "      <td>2025-06</td>\n",
       "    </tr>\n",
       "  </tbody>\n",
       "</table>\n",
       "<p>5 rows × 25 columns</p>\n",
       "</div>"
      ],
      "text/plain": [
       "   customerID  gender SeniorCitizen Partner Dependents  tenure PhoneService  \\\n",
       "0  7590-VHVEG  Female             0     Yes         No     1.0           No   \n",
       "1  5575-GNVDE    Male             0      No         No    34.0          Yes   \n",
       "2  3668-QPYBK    Male             0      No         No     2.0          Yes   \n",
       "3  7795-CFOCW    Male             0      No         No    45.0           No   \n",
       "4  9237-HQITU  Female             0      No         No     2.0          Yes   \n",
       "\n",
       "      MultipleLines InternetService OnlineSecurity  ... Contract  \\\n",
       "0  No phone service             DSL             No  ...      0.0   \n",
       "1                No             DSL            Yes  ...      1.0   \n",
       "2                No             DSL            Yes  ...      0.0   \n",
       "3  No phone service             DSL            Yes  ...      1.0   \n",
       "4                No     Fiber optic             No  ...      0.0   \n",
       "\n",
       "  PaperlessBilling              PaymentMethod MonthlyCharges TotalCharges  \\\n",
       "0              Yes           Electronic check             29        29.85   \n",
       "1               No               Mailed check             56      1889.50   \n",
       "2              Yes               Mailed check             53       108.15   \n",
       "3               No  Bank transfer (automatic)             42      1840.75   \n",
       "4              Yes           Electronic check             70       151.65   \n",
       "\n",
       "   Churn start_date   end_date       date    month  \n",
       "0      0 2025-07-29 2025-08-29 2025-07-29  2025-07  \n",
       "1      0 2022-10-29 2025-08-29 2022-10-29  2022-10  \n",
       "2      1 2025-06-29 2025-08-29 2025-06-29  2025-06  \n",
       "3      0 2021-11-29 2025-08-29 2021-11-29  2021-11  \n",
       "4      1 2025-06-29 2025-08-29 2025-06-29  2025-06  \n",
       "\n",
       "[5 rows x 25 columns]"
      ]
     },
     "execution_count": 94,
     "metadata": {},
     "output_type": "execute_result"
    }
   ],
   "source": [
    "df.head()"
   ]
  },
  {
   "cell_type": "markdown",
   "id": "36948dcc-3e1b-467e-9204-65ee8032c2eb",
   "metadata": {},
   "source": [
    "#### This code groups the data by contract type (`Contract`) and for each group, calculates three quartiles of the `MonthlyCharges` column. The result is a new table that shows how the monthly charges are distributed across each contract type."
   ]
  },
  {
   "cell_type": "code",
   "execution_count": 95,
   "id": "a59ed2be-2d97-44a9-9caa-42218a3a5ef9",
   "metadata": {},
   "outputs": [],
   "source": [
    "quarter_column_Contract= df.groupby('Contract').agg(\n",
    "    q1_monthly=('MonthlyCharges', lambda x: x.quantile(0.25)),\n",
    "    q2_monthly=('MonthlyCharges', lambda x: x.quantile(0.5)),\n",
    "    q3_monthly=('MonthlyCharges', lambda x: x.quantile(0.75)))"
   ]
  },
  {
   "cell_type": "code",
   "execution_count": 96,
   "id": "7b112e1f-ee75-4d19-b7ad-8b714e151b6e",
   "metadata": {},
   "outputs": [
    {
     "data": {
      "text/html": [
       "<div>\n",
       "<style scoped>\n",
       "    .dataframe tbody tr th:only-of-type {\n",
       "        vertical-align: middle;\n",
       "    }\n",
       "\n",
       "    .dataframe tbody tr th {\n",
       "        vertical-align: top;\n",
       "    }\n",
       "\n",
       "    .dataframe thead th {\n",
       "        text-align: right;\n",
       "    }\n",
       "</style>\n",
       "<table border=\"1\" class=\"dataframe\">\n",
       "  <thead>\n",
       "    <tr style=\"text-align: right;\">\n",
       "      <th></th>\n",
       "      <th>q1_monthly</th>\n",
       "      <th>q2_monthly</th>\n",
       "      <th>q3_monthly</th>\n",
       "    </tr>\n",
       "    <tr>\n",
       "      <th>Contract</th>\n",
       "      <th></th>\n",
       "      <th></th>\n",
       "      <th></th>\n",
       "    </tr>\n",
       "  </thead>\n",
       "  <tbody>\n",
       "    <tr>\n",
       "      <th>0.0</th>\n",
       "      <td>45.00</td>\n",
       "      <td>73.0</td>\n",
       "      <td>88.0</td>\n",
       "    </tr>\n",
       "    <tr>\n",
       "      <th>1.0</th>\n",
       "      <td>28.25</td>\n",
       "      <td>68.0</td>\n",
       "      <td>94.0</td>\n",
       "    </tr>\n",
       "    <tr>\n",
       "      <th>2.0</th>\n",
       "      <td>24.00</td>\n",
       "      <td>64.0</td>\n",
       "      <td>90.0</td>\n",
       "    </tr>\n",
       "  </tbody>\n",
       "</table>\n",
       "</div>"
      ],
      "text/plain": [
       "          q1_monthly  q2_monthly  q3_monthly\n",
       "Contract                                    \n",
       "0.0            45.00        73.0        88.0\n",
       "1.0            28.25        68.0        94.0\n",
       "2.0            24.00        64.0        90.0"
      ]
     },
     "execution_count": 96,
     "metadata": {},
     "output_type": "execute_result"
    }
   ],
   "source": [
    "quarter_column_Contract"
   ]
  },
  {
   "cell_type": "code",
   "execution_count": 97,
   "id": "0b1908d1-f0dc-4748-8644-6ae646bfd429",
   "metadata": {},
   "outputs": [
    {
     "name": "stdout",
     "output_type": "stream",
     "text": [
      "P-value: 8.19347576047095e-55\n"
     ]
    },
    {
     "name": "stderr",
     "output_type": "stream",
     "text": [
      "C:\\Users\\hamed\\anaconda3\\envs\\Machin_learning\\Lib\\site-packages\\scipy\\stats\\_axis_nan_policy.py:579: UserWarning: scipy.stats.shapiro: For N > 5000, computed p-value may not be accurate. Current N is 7032.\n",
      "  res = hypotest_fun_out(*samples, **kwds)\n"
     ]
    }
   ],
   "source": [
    "from scipy.stats import shapiro\n",
    "\n",
    "stat, p = shapiro(df['start_date'])\n",
    "print(f\"P-value: {p}\")"
   ]
  },
  {
   "cell_type": "code",
   "execution_count": 107,
   "id": "f2922de3-c4a9-43be-ba58-afb98f2ab678",
   "metadata": {},
   "outputs": [
    {
     "data": {
      "text/plain": [
       "<Axes: >"
      ]
     },
     "execution_count": 107,
     "metadata": {},
     "output_type": "execute_result"
    },
    {
     "data": {
      "image/png": "[encoded data removed]",
      "text/plain": [
       "<Figure size 640x480 with 2 Axes>"
      ]
     },
     "metadata": {},
     "output_type": "display_data"
    }
   ],
   "source": [
    "corr = df.select_dtypes(include='number').corr()\n",
    "sns.heatmap(corr, annot=True)"
   ]
  },
  {
   "cell_type": "code",
   "execution_count": 109,
   "id": "71a4281f-da7b-4c7b-bd41-100b7d1b31e0",
   "metadata": {},
   "outputs": [],
   "source": [
    "# df.select_dtypes(include='number').corr()\n",
    "# corr= df.corr()\n",
    "# sns.heatmap(corr)"
   ]
  },
  {
   "cell_type": "code",
   "execution_count": 105,
   "id": "7e628b3e-3659-4143-bebc-ef3c37a95515",
   "metadata": {},
   "outputs": [
    {
     "data": {
      "text/html": [
       "<div>\n",
       "<style scoped>\n",
       "    .dataframe tbody tr th:only-of-type {\n",
       "        vertical-align: middle;\n",
       "    }\n",
       "\n",
       "    .dataframe tbody tr th {\n",
       "        vertical-align: top;\n",
       "    }\n",
       "\n",
       "    .dataframe thead th {\n",
       "        text-align: right;\n",
       "    }\n",
       "</style>\n",
       "<table border=\"1\" class=\"dataframe\">\n",
       "  <thead>\n",
       "    <tr style=\"text-align: right;\">\n",
       "      <th></th>\n",
       "      <th>customerID</th>\n",
       "      <th>gender</th>\n",
       "      <th>SeniorCitizen</th>\n",
       "      <th>Partner</th>\n",
       "      <th>Dependents</th>\n",
       "      <th>tenure</th>\n",
       "      <th>PhoneService</th>\n",
       "      <th>MultipleLines</th>\n",
       "      <th>InternetService</th>\n",
       "      <th>OnlineSecurity</th>\n",
       "      <th>...</th>\n",
       "      <th>Contract</th>\n",
       "      <th>PaperlessBilling</th>\n",
       "      <th>PaymentMethod</th>\n",
       "      <th>MonthlyCharges</th>\n",
       "      <th>TotalCharges</th>\n",
       "      <th>Churn</th>\n",
       "      <th>start_date</th>\n",
       "      <th>end_date</th>\n",
       "      <th>date</th>\n",
       "      <th>month</th>\n",
       "    </tr>\n",
       "  </thead>\n",
       "  <tbody>\n",
       "    <tr>\n",
       "      <th>0</th>\n",
       "      <td>7590-VHVEG</td>\n",
       "      <td>Female</td>\n",
       "      <td>0</td>\n",
       "      <td>Yes</td>\n",
       "      <td>No</td>\n",
       "      <td>1.0</td>\n",
       "      <td>No</td>\n",
       "      <td>No phone service</td>\n",
       "      <td>DSL</td>\n",
       "      <td>No</td>\n",
       "      <td>...</td>\n",
       "      <td>0.0</td>\n",
       "      <td>Yes</td>\n",
       "      <td>Electronic check</td>\n",
       "      <td>29</td>\n",
       "      <td>29.85</td>\n",
       "      <td>0</td>\n",
       "      <td>2025-07-29</td>\n",
       "      <td>2025-08-29</td>\n",
       "      <td>2025-07-29</td>\n",
       "      <td>2025-07</td>\n",
       "    </tr>\n",
       "    <tr>\n",
       "      <th>1</th>\n",
       "      <td>5575-GNVDE</td>\n",
       "      <td>Male</td>\n",
       "      <td>0</td>\n",
       "      <td>No</td>\n",
       "      <td>No</td>\n",
       "      <td>34.0</td>\n",
       "      <td>Yes</td>\n",
       "      <td>No</td>\n",
       "      <td>DSL</td>\n",
       "      <td>Yes</td>\n",
       "      <td>...</td>\n",
       "      <td>1.0</td>\n",
       "      <td>No</td>\n",
       "      <td>Mailed check</td>\n",
       "      <td>56</td>\n",
       "      <td>1889.50</td>\n",
       "      <td>0</td>\n",
       "      <td>2022-10-29</td>\n",
       "      <td>2025-08-29</td>\n",
       "      <td>2022-10-29</td>\n",
       "      <td>2022-10</td>\n",
       "    </tr>\n",
       "    <tr>\n",
       "      <th>2</th>\n",
       "      <td>3668-QPYBK</td>\n",
       "      <td>Male</td>\n",
       "      <td>0</td>\n",
       "      <td>No</td>\n",
       "      <td>No</td>\n",
       "      <td>2.0</td>\n",
       "      <td>Yes</td>\n",
       "      <td>No</td>\n",
       "      <td>DSL</td>\n",
       "      <td>Yes</td>\n",
       "      <td>...</td>\n",
       "      <td>0.0</td>\n",
       "      <td>Yes</td>\n",
       "      <td>Mailed check</td>\n",
       "      <td>53</td>\n",
       "      <td>108.15</td>\n",
       "      <td>1</td>\n",
       "      <td>2025-06-29</td>\n",
       "      <td>2025-08-29</td>\n",
       "      <td>2025-06-29</td>\n",
       "      <td>2025-06</td>\n",
       "    </tr>\n",
       "    <tr>\n",
       "      <th>3</th>\n",
       "      <td>7795-CFOCW</td>\n",
       "      <td>Male</td>\n",
       "      <td>0</td>\n",
       "      <td>No</td>\n",
       "      <td>No</td>\n",
       "      <td>45.0</td>\n",
       "      <td>No</td>\n",
       "      <td>No phone service</td>\n",
       "      <td>DSL</td>\n",
       "      <td>Yes</td>\n",
       "      <td>...</td>\n",
       "      <td>1.0</td>\n",
       "      <td>No</td>\n",
       "      <td>Bank transfer (automatic)</td>\n",
       "      <td>42</td>\n",
       "      <td>1840.75</td>\n",
       "      <td>0</td>\n",
       "      <td>2021-11-29</td>\n",
       "      <td>2025-08-29</td>\n",
       "      <td>2021-11-29</td>\n",
       "      <td>2021-11</td>\n",
       "    </tr>\n",
       "    <tr>\n",
       "      <th>4</th>\n",
       "      <td>9237-HQITU</td>\n",
       "      <td>Female</td>\n",
       "      <td>0</td>\n",
       "      <td>No</td>\n",
       "      <td>No</td>\n",
       "      <td>2.0</td>\n",
       "      <td>Yes</td>\n",
       "      <td>No</td>\n",
       "      <td>Fiber optic</td>\n",
       "      <td>No</td>\n",
       "      <td>...</td>\n",
       "      <td>0.0</td>\n",
       "      <td>Yes</td>\n",
       "      <td>Electronic check</td>\n",
       "      <td>70</td>\n",
       "      <td>151.65</td>\n",
       "      <td>1</td>\n",
       "      <td>2025-06-29</td>\n",
       "      <td>2025-08-29</td>\n",
       "      <td>2025-06-29</td>\n",
       "      <td>2025-06</td>\n",
       "    </tr>\n",
       "  </tbody>\n",
       "</table>\n",
       "<p>5 rows × 25 columns</p>\n",
       "</div>"
      ],
      "text/plain": [
       "   customerID  gender SeniorCitizen Partner Dependents  tenure PhoneService  \\\n",
       "0  7590-VHVEG  Female             0     Yes         No     1.0           No   \n",
       "1  5575-GNVDE    Male             0      No         No    34.0          Yes   \n",
       "2  3668-QPYBK    Male             0      No         No     2.0          Yes   \n",
       "3  7795-CFOCW    Male             0      No         No    45.0           No   \n",
       "4  9237-HQITU  Female             0      No         No     2.0          Yes   \n",
       "\n",
       "      MultipleLines InternetService OnlineSecurity  ... Contract  \\\n",
       "0  No phone service             DSL             No  ...      0.0   \n",
       "1                No             DSL            Yes  ...      1.0   \n",
       "2                No             DSL            Yes  ...      0.0   \n",
       "3  No phone service             DSL            Yes  ...      1.0   \n",
       "4                No     Fiber optic             No  ...      0.0   \n",
       "\n",
       "  PaperlessBilling              PaymentMethod MonthlyCharges TotalCharges  \\\n",
       "0              Yes           Electronic check             29        29.85   \n",
       "1               No               Mailed check             56      1889.50   \n",
       "2              Yes               Mailed check             53       108.15   \n",
       "3               No  Bank transfer (automatic)             42      1840.75   \n",
       "4              Yes           Electronic check             70       151.65   \n",
       "\n",
       "   Churn start_date   end_date       date    month  \n",
       "0      0 2025-07-29 2025-08-29 2025-07-29  2025-07  \n",
       "1      0 2022-10-29 2025-08-29 2022-10-29  2022-10  \n",
       "2      1 2025-06-29 2025-08-29 2025-06-29  2025-06  \n",
       "3      0 2021-11-29 2025-08-29 2021-11-29  2021-11  \n",
       "4      1 2025-06-29 2025-08-29 2025-06-29  2025-06  \n",
       "\n",
       "[5 rows x 25 columns]"
      ]
     },
     "execution_count": 105,
     "metadata": {},
     "output_type": "execute_result"
    }
   ],
   "source": [
    "df.head()"
   ]
  },
  {
   "cell_type": "code",
   "execution_count": 111,
   "id": "8983004e-bbe0-4a74-9455-2d56161d47f7",
   "metadata": {},
   "outputs": [
    {
     "data": {
      "text/plain": [
       "<Axes: >"
      ]
     },
     "execution_count": 111,
     "metadata": {},
     "output_type": "execute_result"
    },
    {
     "data": {
      "image/png": "[encoded data removed]",
      "text/plain": [
       "<Figure size 640x480 with 2 Axes>"
      ]
     },
     "metadata": {},
     "output_type": "display_data"
    }
   ],
   "source": [
    "df.select_dtypes(include='number').corr()\n",
    "corr= data_numeric.corr()\n",
    "sns.heatmap(corr)"
   ]
  },
  {
   "cell_type": "code",
   "execution_count": 113,
   "id": "2843fe31-893e-4d89-bf85-9b512017c53e",
   "metadata": {},
   "outputs": [
    {
     "data": {
      "text/html": [
       "<div>\n",
       "<style scoped>\n",
       "    .dataframe tbody tr th:only-of-type {\n",
       "        vertical-align: middle;\n",
       "    }\n",
       "\n",
       "    .dataframe tbody tr th {\n",
       "        vertical-align: top;\n",
       "    }\n",
       "\n",
       "    .dataframe thead th {\n",
       "        text-align: right;\n",
       "    }\n",
       "</style>\n",
       "<table border=\"1\" class=\"dataframe\">\n",
       "  <thead>\n",
       "    <tr style=\"text-align: right;\">\n",
       "      <th></th>\n",
       "      <th>tenure</th>\n",
       "      <th>Contract</th>\n",
       "      <th>MonthlyCharges</th>\n",
       "      <th>TotalCharges</th>\n",
       "      <th>Churn</th>\n",
       "    </tr>\n",
       "  </thead>\n",
       "  <tbody>\n",
       "    <tr>\n",
       "      <th>tenure</th>\n",
       "      <td>1.000000</td>\n",
       "      <td>0.676734</td>\n",
       "      <td>0.246876</td>\n",
       "      <td>0.825880</td>\n",
       "      <td>-0.354049</td>\n",
       "    </tr>\n",
       "    <tr>\n",
       "      <th>Contract</th>\n",
       "      <td>0.676734</td>\n",
       "      <td>1.000000</td>\n",
       "      <td>-0.072685</td>\n",
       "      <td>0.450306</td>\n",
       "      <td>-0.396150</td>\n",
       "    </tr>\n",
       "    <tr>\n",
       "      <th>MonthlyCharges</th>\n",
       "      <td>0.246876</td>\n",
       "      <td>-0.072685</td>\n",
       "      <td>1.000000</td>\n",
       "      <td>0.651126</td>\n",
       "      <td>0.192922</td>\n",
       "    </tr>\n",
       "    <tr>\n",
       "      <th>TotalCharges</th>\n",
       "      <td>0.825880</td>\n",
       "      <td>0.450306</td>\n",
       "      <td>0.651126</td>\n",
       "      <td>1.000000</td>\n",
       "      <td>-0.199484</td>\n",
       "    </tr>\n",
       "    <tr>\n",
       "      <th>Churn</th>\n",
       "      <td>-0.354049</td>\n",
       "      <td>-0.396150</td>\n",
       "      <td>0.192922</td>\n",
       "      <td>-0.199484</td>\n",
       "      <td>1.000000</td>\n",
       "    </tr>\n",
       "  </tbody>\n",
       "</table>\n",
       "</div>"
      ],
      "text/plain": [
       "                  tenure  Contract  MonthlyCharges  TotalCharges     Churn\n",
       "tenure          1.000000  0.676734        0.246876      0.825880 -0.354049\n",
       "Contract        0.676734  1.000000       -0.072685      0.450306 -0.396150\n",
       "MonthlyCharges  0.246876 -0.072685        1.000000      0.651126  0.192922\n",
       "TotalCharges    0.825880  0.450306        0.651126      1.000000 -0.199484\n",
       "Churn          -0.354049 -0.396150        0.192922     -0.199484  1.000000"
      ]
     },
     "execution_count": 113,
     "metadata": {},
     "output_type": "execute_result"
    }
   ],
   "source": [
    "# انتخاب داده‌های عددی و محاسبه همبستگی\n",
    "data_numeric = df.select_dtypes(include='number')\n",
    "corr = data_numeric.corr()\n",
    "corr\n"
   ]
  },
  {
   "cell_type": "code",
   "execution_count": 102,
   "id": "08e2bdd9-4d0b-4885-ab1a-242742412ce6",
   "metadata": {},
   "outputs": [
    {
     "data": {
      "image/png": "[encoded data removed]",
      "text/plain": [
       "<Figure size 1000x800 with 2 Axes>"
      ]
     },
     "metadata": {},
     "output_type": "display_data"
    }
   ],
   "source": [
    "# رسم Heatmap با تنظیمات ظاهری\n",
    "plt.figure(figsize=(10, 8))\n",
    "sns.heatmap(corr, annot=True, cmap='coolwarm', fmt=\".2f\", linewidths=0.5)\n",
    "plt.title(\"نقشه حرارتی همبستگی بین ویژگی‌ها\")\n",
    "plt.show()"
   ]
  },
  {
   "cell_type": "code",
   "execution_count": null,
   "id": "5489a45f-4d69-4144-8458-940ad4118ed3",
   "metadata": {},
   "outputs": [],
   "source": [
    "data = {\n",
    "    'CustomerID': [1, 2, 3, 4, 5, 6, 7, 8, 9, 10],\n",
    "    'MonthlyCharges': [20, 25, 30, 35, 40, 45, 50, 55, 60, 65],\n",
    "    'Contract': ['Month-to-month', 'Month-to-month', 'One year', 'One year', \n",
    "                 'Two year', 'Two year', 'Month-to-month', 'One year', \n",
    "                 'Two year', 'Month-to-month']\n",
    "}\n",
    "\n",
    "df = pd.DataFrame(data)\n",
    "\n",
    "\n",
    "q1 = df['MonthlyCharges'].quantile(0.25)\n",
    "q2 = df['MonthlyCharges'].quantile(0.50)\n",
    "q3 = df['MonthlyCharges'].quantile(0.75)\n",
    "\n",
    "print(q1, q2, q3)\n",
    "\n",
    "\n",
    "\n",
    "def categorize(value):\n",
    "    if value <= q1:\n",
    "        return 'کم‌خرج'\n",
    "    elif value <= q3:\n",
    "        return 'متوسط'\n",
    "    else:\n",
    "        return 'پرخرج'\n",
    "\n",
    "df['Category'] = df['MonthlyCharges'].apply(categorize)\n",
    "print(df)\n",
    "\n",
    "result = df.groupby('CustomerID')['MonthlyCharges'].apply(lambda x: x.quantile(0.25))\n",
    "print(result)\n",
    "\n",
    "# persent = df['MonthlyCharges']\n",
    "# result = persent.apply(lambda x : x + 10)\n",
    "# print(result)\n",
    "\n",
    "# print(df.apply(sum, axis=0))\n",
    "# print(df.apply(sum, axis=1))\n",
    "\n",
    "\n",
    "# df = pd.DataFrame({\n",
    "#     'Group': ['A', 'A', 'B', 'B'],\n",
    "#     'Value': [10, 20, 30, 40]\n",
    "# })\n",
    "\n",
    "# result = df.groupby('Group')['Value'].apply(lambda x: x.quantile(0.25))\n",
    "# print(result)"
   ]
  },
  {
   "cell_type": "code",
   "execution_count": null,
   "id": "7183b1dc-0b49-4c37-aea8-14c7c2413d8f",
   "metadata": {},
   "outputs": [],
   "source": [
    "import pandas as pd\n",
    "\n",
    "data = {\n",
    "    'Month': ['2025-01', '2025-01', '2025-02', '2025-02', '2025-03', '2025-03'],\n",
    "    'ChurnRate': [0.05, 0.08, 0.06, 0.09, 0.07, 0.10],\n",
    "    'ContractType': ['Monthly', 'Annual', 'Monthly', 'Annual', 'Monthly', 'Annual']\n",
    "}\n",
    "df = pd.DataFrame(data)\n",
    "df['Month'] = pd.to_datetime(df['Month'])\n",
    "df"
   ]
  },
  {
   "cell_type": "code",
   "execution_count": null,
   "id": "876e4ee4-54a1-4508-b574-0ab4a7540fa5",
   "metadata": {},
   "outputs": [],
   "source": [
    "import plotly.io as pio\n",
    "pio.renderers.default = 'notebook'  # یا 'iframe' یا 'notebook_connected'"
   ]
  },
  {
   "cell_type": "code",
   "execution_count": null,
   "id": "f11cdb72-fcef-4c31-b7ca-a9a6ee24239e",
   "metadata": {},
   "outputs": [],
   "source": [
    "pio.renderers.default = 'iframe'"
   ]
  },
  {
   "cell_type": "code",
   "execution_count": null,
   "id": "bc8a5290-40e9-462e-88cc-54b33b9e7dce",
   "metadata": {},
   "outputs": [],
   "source": [
    "import plotly.graph_objects as go\n",
    "\n",
    "# لیست انواع قرارداد\n",
    "contract_types = df['ContractType'].unique()\n",
    "\n",
    "# ساخت نمودار\n",
    "fig = go.Figure()\n",
    "\n",
    "for contract in contract_types:\n",
    "    filtered_df = df[df['ContractType'] == contract]\n",
    "    fig.add_trace(go.Scatter(\n",
    "        x=filtered_df['Month'],\n",
    "        y=filtered_df['ChurnRate'],\n",
    "        mode='lines+markers',\n",
    "        name=contract,\n",
    "        visible=(contract == contract_types[0])  # فقط اولین دسته پیش‌فرض نمایش داده می‌شود\n",
    "    ))\n",
    "\n",
    "# ساخت دکمه‌های فیلتر\n",
    "buttons = []\n",
    "for i, contract in enumerate(contract_types):\n",
    "    visibility = [False] * len(contract_types)\n",
    "    visibility[i] = True\n",
    "    buttons.append(dict(\n",
    "        label=contract,\n",
    "        method='update',\n",
    "        args=[{'visible': visibility},\n",
    "              {'title': f\"Churn Rate Over Time - {contract} Contract\"}]\n",
    "    ))\n",
    "\n",
    "fig.update_layout(\n",
    "    title=f\"Churn Rate Over Time - {contract_types[0]} Contract\",\n",
    "    xaxis_title='Month',\n",
    "    yaxis_title='Churn Rate',\n",
    "    updatemenus=[dict(\n",
    "        active=0,\n",
    "        buttons=buttons,\n",
    "        x=0.1,\n",
    "        xanchor='left',\n",
    "        y=1.15,\n",
    "        yanchor='top'\n",
    "    )],\n",
    "    template='plotly_white'\n",
    ")\n",
    "\n",
    "fig.show()"
   ]
  },
  {
   "cell_type": "code",
   "execution_count": null,
   "id": "ffb0e322-e98f-47d8-b23d-de8f86634334",
   "metadata": {},
   "outputs": [],
   "source": []
  },
  {
   "cell_type": "code",
   "execution_count": null,
   "id": "7c121af4-7ed6-42e3-8e91-3b02e977330a",
   "metadata": {},
   "outputs": [],
   "source": []
  }
 ],
 "metadata": {
  "kernelspec": {
   "display_name": "Python (Machin_learning)",
   "language": "python",
   "name": "machin_learning"
  },
  "language_info": {
   "codemirror_mode": {
    "name": "ipython",
    "version": 3
   },
   "file_extension": ".py",
   "mimetype": "text/x-python",
   "name": "python",
   "nbconvert_exporter": "python",
   "pygments_lexer": "ipython3",
   "version": "3.12.11"
  }
 },
 "nbformat": 4,
 "nbformat_minor": 5
}
